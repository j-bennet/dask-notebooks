{
 "cells": [
  {
   "cell_type": "markdown",
   "id": "5c99e647",
   "metadata": {},
   "source": [
    "## DataFrame benchmarks with object vs. string[pyarrow] data"
   ]
  },
  {
   "cell_type": "code",
   "execution_count": 59,
   "id": "f58eedf4",
   "metadata": {},
   "outputs": [
    {
     "name": "stdout",
     "output_type": "stream",
     "text": [
      "{\n",
      "  \"Python\": \"3.11.0\",\n",
      "  \"Platform\": \"Darwin\",\n",
      "  \"dask\": \"2023.3.2\",\n",
      "  \"distributed\": \"2023.3.2\",\n",
      "  \"numpy\": \"1.24.2\",\n",
      "  \"pandas\": \"2.0.0rc1\",\n",
      "  \"cloudpickle\": \"2.2.1\",\n",
      "  \"fsspec\": \"2023.3.0\",\n",
      "  \"bokeh\": \"2.4.3\",\n",
      "  \"fastparquet\": null,\n",
      "  \"pyarrow\": \"11.0.0\",\n",
      "  \"zarr\": null\n",
      "}"
     ]
    }
   ],
   "source": [
    "import dask\n",
    "dask.utils.show_versions()"
   ]
  },
  {
   "cell_type": "code",
   "execution_count": 60,
   "id": "e6baa3d8",
   "metadata": {},
   "outputs": [],
   "source": [
    "import pandas as pd\n",
    "import numpy as np\n",
    "from dask.sizeof import sizeof\n",
    "from dask.utils import format_bytes\n",
    "from dask import delayed\n",
    "import dask.dataframe as dd\n",
    "import random\n",
    "import string\n",
    "from distributed import wait\n",
    "from distributed import Client\n",
    "from distributed.diagnostics import MemorySampler\n",
    "import coiled\n",
    "import matplotlib\n",
    "import matplotlib.pyplot as plt"
   ]
  },
  {
   "cell_type": "code",
   "execution_count": 61,
   "id": "b4fd4247",
   "metadata": {},
   "outputs": [],
   "source": [
    "from dask.distributed import performance_report"
   ]
  },
  {
   "cell_type": "code",
   "execution_count": 62,
   "id": "b1764931",
   "metadata": {},
   "outputs": [
    {
     "data": {
      "application/vnd.jupyter.widget-view+json": {
       "model_id": "d3265527a10b4e56b55e942c64d43925",
       "version_major": 2,
       "version_minor": 0
      },
      "text/html": [
       "<div class=\"jp-RenderedHTMLCommon jp-RenderedHTML jp-mod-trusted jp-OutputArea-output\">\n",
       "    <div style=\"width: 24px; height: 24px; background-color: #e1e1e1; border: 3px solid #9D9D9D; border-radius: 5px; position: absolute;\">\n",
       "    </div>\n",
       "    <div style=\"margin-left: 48px;\">\n",
       "        <h3 style=\"margin-bottom: 0px; margin-top: 0px;\">LocalCluster</h3>\n",
       "        <p style=\"color: #9D9D9D; margin-bottom: 0px;\">12abb1e8</p>\n",
       "        <table style=\"width: 100%; text-align: left;\">\n",
       "            <tr>\n",
       "                <td style=\"text-align: left;\">\n",
       "                    <strong>Dashboard:</strong> <a href=\"http://127.0.0.1:8787/status\" target=\"_blank\">http://127.0.0.1:8787/status</a>\n",
       "                </td>\n",
       "                <td style=\"text-align: left;\">\n",
       "                    <strong>Workers:</strong> 4\n",
       "                </td>\n",
       "            </tr>\n",
       "            <tr>\n",
       "                <td style=\"text-align: left;\">\n",
       "                    <strong>Total threads:</strong> 12\n",
       "                </td>\n",
       "                <td style=\"text-align: left;\">\n",
       "                    <strong>Total memory:</strong> 64.00 GiB\n",
       "                </td>\n",
       "            </tr>\n",
       "            \n",
       "            <tr>\n",
       "    <td style=\"text-align: left;\"><strong>Status:</strong> running</td>\n",
       "    <td style=\"text-align: left;\"><strong>Using processes:</strong> True</td>\n",
       "</tr>\n",
       "\n",
       "            \n",
       "        </table>\n",
       "\n",
       "        <details>\n",
       "            <summary style=\"margin-bottom: 20px;\">\n",
       "                <h3 style=\"display: inline;\">Scheduler Info</h3>\n",
       "            </summary>\n",
       "\n",
       "            <div style=\"\">\n",
       "    <div>\n",
       "        <div style=\"width: 24px; height: 24px; background-color: #FFF7E5; border: 3px solid #FF6132; border-radius: 5px; position: absolute;\"> </div>\n",
       "        <div style=\"margin-left: 48px;\">\n",
       "            <h3 style=\"margin-bottom: 0px;\">Scheduler</h3>\n",
       "            <p style=\"color: #9D9D9D; margin-bottom: 0px;\">Scheduler-eb0ccd9a-bec9-458e-9b57-ccfdc7bef331</p>\n",
       "            <table style=\"width: 100%; text-align: left;\">\n",
       "                <tr>\n",
       "                    <td style=\"text-align: left;\">\n",
       "                        <strong>Comm:</strong> tcp://127.0.0.1:59905\n",
       "                    </td>\n",
       "                    <td style=\"text-align: left;\">\n",
       "                        <strong>Workers:</strong> 4\n",
       "                    </td>\n",
       "                </tr>\n",
       "                <tr>\n",
       "                    <td style=\"text-align: left;\">\n",
       "                        <strong>Dashboard:</strong> <a href=\"http://127.0.0.1:8787/status\" target=\"_blank\">http://127.0.0.1:8787/status</a>\n",
       "                    </td>\n",
       "                    <td style=\"text-align: left;\">\n",
       "                        <strong>Total threads:</strong> 12\n",
       "                    </td>\n",
       "                </tr>\n",
       "                <tr>\n",
       "                    <td style=\"text-align: left;\">\n",
       "                        <strong>Started:</strong> Just now\n",
       "                    </td>\n",
       "                    <td style=\"text-align: left;\">\n",
       "                        <strong>Total memory:</strong> 64.00 GiB\n",
       "                    </td>\n",
       "                </tr>\n",
       "            </table>\n",
       "        </div>\n",
       "    </div>\n",
       "\n",
       "    <details style=\"margin-left: 48px;\">\n",
       "        <summary style=\"margin-bottom: 20px;\">\n",
       "            <h3 style=\"display: inline;\">Workers</h3>\n",
       "        </summary>\n",
       "\n",
       "        \n",
       "        <div style=\"margin-bottom: 20px;\">\n",
       "            <div style=\"width: 24px; height: 24px; background-color: #DBF5FF; border: 3px solid #4CC9FF; border-radius: 5px; position: absolute;\"> </div>\n",
       "            <div style=\"margin-left: 48px;\">\n",
       "            <details>\n",
       "                <summary>\n",
       "                    <h4 style=\"margin-bottom: 0px; display: inline;\">Worker: 0</h4>\n",
       "                </summary>\n",
       "                <table style=\"width: 100%; text-align: left;\">\n",
       "                    <tr>\n",
       "                        <td style=\"text-align: left;\">\n",
       "                            <strong>Comm: </strong> tcp://127.0.0.1:59919\n",
       "                        </td>\n",
       "                        <td style=\"text-align: left;\">\n",
       "                            <strong>Total threads: </strong> 3\n",
       "                        </td>\n",
       "                    </tr>\n",
       "                    <tr>\n",
       "                        <td style=\"text-align: left;\">\n",
       "                            <strong>Dashboard: </strong> <a href=\"http://127.0.0.1:59921/status\" target=\"_blank\">http://127.0.0.1:59921/status</a>\n",
       "                        </td>\n",
       "                        <td style=\"text-align: left;\">\n",
       "                            <strong>Memory: </strong> 16.00 GiB\n",
       "                        </td>\n",
       "                    </tr>\n",
       "                    <tr>\n",
       "                        <td style=\"text-align: left;\">\n",
       "                            <strong>Nanny: </strong> tcp://127.0.0.1:59908\n",
       "                        </td>\n",
       "                        <td style=\"text-align: left;\"></td>\n",
       "                    </tr>\n",
       "                    <tr>\n",
       "                        <td colspan=\"2\" style=\"text-align: left;\">\n",
       "                            <strong>Local directory: </strong> /var/folders/w6/twsr_k_17m3fbmpgvpnp_v700000gn/T/dask-worker-space/worker-7d89zuzq\n",
       "                        </td>\n",
       "                    </tr>\n",
       "\n",
       "                    \n",
       "\n",
       "                    \n",
       "\n",
       "                </table>\n",
       "            </details>\n",
       "            </div>\n",
       "        </div>\n",
       "        \n",
       "        <div style=\"margin-bottom: 20px;\">\n",
       "            <div style=\"width: 24px; height: 24px; background-color: #DBF5FF; border: 3px solid #4CC9FF; border-radius: 5px; position: absolute;\"> </div>\n",
       "            <div style=\"margin-left: 48px;\">\n",
       "            <details>\n",
       "                <summary>\n",
       "                    <h4 style=\"margin-bottom: 0px; display: inline;\">Worker: 1</h4>\n",
       "                </summary>\n",
       "                <table style=\"width: 100%; text-align: left;\">\n",
       "                    <tr>\n",
       "                        <td style=\"text-align: left;\">\n",
       "                            <strong>Comm: </strong> tcp://127.0.0.1:59917\n",
       "                        </td>\n",
       "                        <td style=\"text-align: left;\">\n",
       "                            <strong>Total threads: </strong> 3\n",
       "                        </td>\n",
       "                    </tr>\n",
       "                    <tr>\n",
       "                        <td style=\"text-align: left;\">\n",
       "                            <strong>Dashboard: </strong> <a href=\"http://127.0.0.1:59923/status\" target=\"_blank\">http://127.0.0.1:59923/status</a>\n",
       "                        </td>\n",
       "                        <td style=\"text-align: left;\">\n",
       "                            <strong>Memory: </strong> 16.00 GiB\n",
       "                        </td>\n",
       "                    </tr>\n",
       "                    <tr>\n",
       "                        <td style=\"text-align: left;\">\n",
       "                            <strong>Nanny: </strong> tcp://127.0.0.1:59909\n",
       "                        </td>\n",
       "                        <td style=\"text-align: left;\"></td>\n",
       "                    </tr>\n",
       "                    <tr>\n",
       "                        <td colspan=\"2\" style=\"text-align: left;\">\n",
       "                            <strong>Local directory: </strong> /var/folders/w6/twsr_k_17m3fbmpgvpnp_v700000gn/T/dask-worker-space/worker-cgzihojm\n",
       "                        </td>\n",
       "                    </tr>\n",
       "\n",
       "                    \n",
       "\n",
       "                    \n",
       "\n",
       "                </table>\n",
       "            </details>\n",
       "            </div>\n",
       "        </div>\n",
       "        \n",
       "        <div style=\"margin-bottom: 20px;\">\n",
       "            <div style=\"width: 24px; height: 24px; background-color: #DBF5FF; border: 3px solid #4CC9FF; border-radius: 5px; position: absolute;\"> </div>\n",
       "            <div style=\"margin-left: 48px;\">\n",
       "            <details>\n",
       "                <summary>\n",
       "                    <h4 style=\"margin-bottom: 0px; display: inline;\">Worker: 2</h4>\n",
       "                </summary>\n",
       "                <table style=\"width: 100%; text-align: left;\">\n",
       "                    <tr>\n",
       "                        <td style=\"text-align: left;\">\n",
       "                            <strong>Comm: </strong> tcp://127.0.0.1:59916\n",
       "                        </td>\n",
       "                        <td style=\"text-align: left;\">\n",
       "                            <strong>Total threads: </strong> 3\n",
       "                        </td>\n",
       "                    </tr>\n",
       "                    <tr>\n",
       "                        <td style=\"text-align: left;\">\n",
       "                            <strong>Dashboard: </strong> <a href=\"http://127.0.0.1:59920/status\" target=\"_blank\">http://127.0.0.1:59920/status</a>\n",
       "                        </td>\n",
       "                        <td style=\"text-align: left;\">\n",
       "                            <strong>Memory: </strong> 16.00 GiB\n",
       "                        </td>\n",
       "                    </tr>\n",
       "                    <tr>\n",
       "                        <td style=\"text-align: left;\">\n",
       "                            <strong>Nanny: </strong> tcp://127.0.0.1:59910\n",
       "                        </td>\n",
       "                        <td style=\"text-align: left;\"></td>\n",
       "                    </tr>\n",
       "                    <tr>\n",
       "                        <td colspan=\"2\" style=\"text-align: left;\">\n",
       "                            <strong>Local directory: </strong> /var/folders/w6/twsr_k_17m3fbmpgvpnp_v700000gn/T/dask-worker-space/worker-4wycx52_\n",
       "                        </td>\n",
       "                    </tr>\n",
       "\n",
       "                    \n",
       "\n",
       "                    \n",
       "\n",
       "                </table>\n",
       "            </details>\n",
       "            </div>\n",
       "        </div>\n",
       "        \n",
       "        <div style=\"margin-bottom: 20px;\">\n",
       "            <div style=\"width: 24px; height: 24px; background-color: #DBF5FF; border: 3px solid #4CC9FF; border-radius: 5px; position: absolute;\"> </div>\n",
       "            <div style=\"margin-left: 48px;\">\n",
       "            <details>\n",
       "                <summary>\n",
       "                    <h4 style=\"margin-bottom: 0px; display: inline;\">Worker: 3</h4>\n",
       "                </summary>\n",
       "                <table style=\"width: 100%; text-align: left;\">\n",
       "                    <tr>\n",
       "                        <td style=\"text-align: left;\">\n",
       "                            <strong>Comm: </strong> tcp://127.0.0.1:59918\n",
       "                        </td>\n",
       "                        <td style=\"text-align: left;\">\n",
       "                            <strong>Total threads: </strong> 3\n",
       "                        </td>\n",
       "                    </tr>\n",
       "                    <tr>\n",
       "                        <td style=\"text-align: left;\">\n",
       "                            <strong>Dashboard: </strong> <a href=\"http://127.0.0.1:59922/status\" target=\"_blank\">http://127.0.0.1:59922/status</a>\n",
       "                        </td>\n",
       "                        <td style=\"text-align: left;\">\n",
       "                            <strong>Memory: </strong> 16.00 GiB\n",
       "                        </td>\n",
       "                    </tr>\n",
       "                    <tr>\n",
       "                        <td style=\"text-align: left;\">\n",
       "                            <strong>Nanny: </strong> tcp://127.0.0.1:59911\n",
       "                        </td>\n",
       "                        <td style=\"text-align: left;\"></td>\n",
       "                    </tr>\n",
       "                    <tr>\n",
       "                        <td colspan=\"2\" style=\"text-align: left;\">\n",
       "                            <strong>Local directory: </strong> /var/folders/w6/twsr_k_17m3fbmpgvpnp_v700000gn/T/dask-worker-space/worker-vcsvf5y8\n",
       "                        </td>\n",
       "                    </tr>\n",
       "\n",
       "                    \n",
       "\n",
       "                    \n",
       "\n",
       "                </table>\n",
       "            </details>\n",
       "            </div>\n",
       "        </div>\n",
       "        \n",
       "\n",
       "    </details>\n",
       "</div>\n",
       "\n",
       "        </details>\n",
       "    </div>\n",
       "</div>"
      ],
      "text/plain": [
       "LocalCluster(12abb1e8, 'tcp://127.0.0.1:59905', workers=4, threads=12, memory=64.00 GiB)"
      ]
     },
     "metadata": {},
     "output_type": "display_data"
    }
   ],
   "source": [
    "from dask.distributed import Client, LocalCluster\n",
    "cluster = LocalCluster()\n",
    "cluster"
   ]
  },
  {
   "cell_type": "code",
   "execution_count": 63,
   "id": "0624fda9",
   "metadata": {},
   "outputs": [
    {
     "data": {
      "text/html": [
       "<div>\n",
       "    <div style=\"width: 24px; height: 24px; background-color: #e1e1e1; border: 3px solid #9D9D9D; border-radius: 5px; position: absolute;\"> </div>\n",
       "    <div style=\"margin-left: 48px;\">\n",
       "        <h3 style=\"margin-bottom: 0px;\">Client</h3>\n",
       "        <p style=\"color: #9D9D9D; margin-bottom: 0px;\">Client-cf1d5f02-cf43-11ed-ae62-0a3a5daaaad5</p>\n",
       "        <table style=\"width: 100%; text-align: left;\">\n",
       "\n",
       "        <tr>\n",
       "        \n",
       "            <td style=\"text-align: left;\"><strong>Connection method:</strong> Cluster object</td>\n",
       "            <td style=\"text-align: left;\"><strong>Cluster type:</strong> distributed.LocalCluster</td>\n",
       "        \n",
       "        </tr>\n",
       "\n",
       "        \n",
       "            <tr>\n",
       "                <td style=\"text-align: left;\">\n",
       "                    <strong>Dashboard: </strong> <a href=\"http://127.0.0.1:8787/status\" target=\"_blank\">http://127.0.0.1:8787/status</a>\n",
       "                </td>\n",
       "                <td style=\"text-align: left;\"></td>\n",
       "            </tr>\n",
       "        \n",
       "\n",
       "        </table>\n",
       "\n",
       "        \n",
       "\n",
       "        \n",
       "            <details>\n",
       "            <summary style=\"margin-bottom: 20px;\"><h3 style=\"display: inline;\">Cluster Info</h3></summary>\n",
       "            <div class=\"jp-RenderedHTMLCommon jp-RenderedHTML jp-mod-trusted jp-OutputArea-output\">\n",
       "    <div style=\"width: 24px; height: 24px; background-color: #e1e1e1; border: 3px solid #9D9D9D; border-radius: 5px; position: absolute;\">\n",
       "    </div>\n",
       "    <div style=\"margin-left: 48px;\">\n",
       "        <h3 style=\"margin-bottom: 0px; margin-top: 0px;\">LocalCluster</h3>\n",
       "        <p style=\"color: #9D9D9D; margin-bottom: 0px;\">12abb1e8</p>\n",
       "        <table style=\"width: 100%; text-align: left;\">\n",
       "            <tr>\n",
       "                <td style=\"text-align: left;\">\n",
       "                    <strong>Dashboard:</strong> <a href=\"http://127.0.0.1:8787/status\" target=\"_blank\">http://127.0.0.1:8787/status</a>\n",
       "                </td>\n",
       "                <td style=\"text-align: left;\">\n",
       "                    <strong>Workers:</strong> 4\n",
       "                </td>\n",
       "            </tr>\n",
       "            <tr>\n",
       "                <td style=\"text-align: left;\">\n",
       "                    <strong>Total threads:</strong> 12\n",
       "                </td>\n",
       "                <td style=\"text-align: left;\">\n",
       "                    <strong>Total memory:</strong> 64.00 GiB\n",
       "                </td>\n",
       "            </tr>\n",
       "            \n",
       "            <tr>\n",
       "    <td style=\"text-align: left;\"><strong>Status:</strong> running</td>\n",
       "    <td style=\"text-align: left;\"><strong>Using processes:</strong> True</td>\n",
       "</tr>\n",
       "\n",
       "            \n",
       "        </table>\n",
       "\n",
       "        <details>\n",
       "            <summary style=\"margin-bottom: 20px;\">\n",
       "                <h3 style=\"display: inline;\">Scheduler Info</h3>\n",
       "            </summary>\n",
       "\n",
       "            <div style=\"\">\n",
       "    <div>\n",
       "        <div style=\"width: 24px; height: 24px; background-color: #FFF7E5; border: 3px solid #FF6132; border-radius: 5px; position: absolute;\"> </div>\n",
       "        <div style=\"margin-left: 48px;\">\n",
       "            <h3 style=\"margin-bottom: 0px;\">Scheduler</h3>\n",
       "            <p style=\"color: #9D9D9D; margin-bottom: 0px;\">Scheduler-eb0ccd9a-bec9-458e-9b57-ccfdc7bef331</p>\n",
       "            <table style=\"width: 100%; text-align: left;\">\n",
       "                <tr>\n",
       "                    <td style=\"text-align: left;\">\n",
       "                        <strong>Comm:</strong> tcp://127.0.0.1:59905\n",
       "                    </td>\n",
       "                    <td style=\"text-align: left;\">\n",
       "                        <strong>Workers:</strong> 4\n",
       "                    </td>\n",
       "                </tr>\n",
       "                <tr>\n",
       "                    <td style=\"text-align: left;\">\n",
       "                        <strong>Dashboard:</strong> <a href=\"http://127.0.0.1:8787/status\" target=\"_blank\">http://127.0.0.1:8787/status</a>\n",
       "                    </td>\n",
       "                    <td style=\"text-align: left;\">\n",
       "                        <strong>Total threads:</strong> 12\n",
       "                    </td>\n",
       "                </tr>\n",
       "                <tr>\n",
       "                    <td style=\"text-align: left;\">\n",
       "                        <strong>Started:</strong> Just now\n",
       "                    </td>\n",
       "                    <td style=\"text-align: left;\">\n",
       "                        <strong>Total memory:</strong> 64.00 GiB\n",
       "                    </td>\n",
       "                </tr>\n",
       "            </table>\n",
       "        </div>\n",
       "    </div>\n",
       "\n",
       "    <details style=\"margin-left: 48px;\">\n",
       "        <summary style=\"margin-bottom: 20px;\">\n",
       "            <h3 style=\"display: inline;\">Workers</h3>\n",
       "        </summary>\n",
       "\n",
       "        \n",
       "        <div style=\"margin-bottom: 20px;\">\n",
       "            <div style=\"width: 24px; height: 24px; background-color: #DBF5FF; border: 3px solid #4CC9FF; border-radius: 5px; position: absolute;\"> </div>\n",
       "            <div style=\"margin-left: 48px;\">\n",
       "            <details>\n",
       "                <summary>\n",
       "                    <h4 style=\"margin-bottom: 0px; display: inline;\">Worker: 0</h4>\n",
       "                </summary>\n",
       "                <table style=\"width: 100%; text-align: left;\">\n",
       "                    <tr>\n",
       "                        <td style=\"text-align: left;\">\n",
       "                            <strong>Comm: </strong> tcp://127.0.0.1:59919\n",
       "                        </td>\n",
       "                        <td style=\"text-align: left;\">\n",
       "                            <strong>Total threads: </strong> 3\n",
       "                        </td>\n",
       "                    </tr>\n",
       "                    <tr>\n",
       "                        <td style=\"text-align: left;\">\n",
       "                            <strong>Dashboard: </strong> <a href=\"http://127.0.0.1:59921/status\" target=\"_blank\">http://127.0.0.1:59921/status</a>\n",
       "                        </td>\n",
       "                        <td style=\"text-align: left;\">\n",
       "                            <strong>Memory: </strong> 16.00 GiB\n",
       "                        </td>\n",
       "                    </tr>\n",
       "                    <tr>\n",
       "                        <td style=\"text-align: left;\">\n",
       "                            <strong>Nanny: </strong> tcp://127.0.0.1:59908\n",
       "                        </td>\n",
       "                        <td style=\"text-align: left;\"></td>\n",
       "                    </tr>\n",
       "                    <tr>\n",
       "                        <td colspan=\"2\" style=\"text-align: left;\">\n",
       "                            <strong>Local directory: </strong> /var/folders/w6/twsr_k_17m3fbmpgvpnp_v700000gn/T/dask-worker-space/worker-7d89zuzq\n",
       "                        </td>\n",
       "                    </tr>\n",
       "\n",
       "                    \n",
       "\n",
       "                    \n",
       "\n",
       "                </table>\n",
       "            </details>\n",
       "            </div>\n",
       "        </div>\n",
       "        \n",
       "        <div style=\"margin-bottom: 20px;\">\n",
       "            <div style=\"width: 24px; height: 24px; background-color: #DBF5FF; border: 3px solid #4CC9FF; border-radius: 5px; position: absolute;\"> </div>\n",
       "            <div style=\"margin-left: 48px;\">\n",
       "            <details>\n",
       "                <summary>\n",
       "                    <h4 style=\"margin-bottom: 0px; display: inline;\">Worker: 1</h4>\n",
       "                </summary>\n",
       "                <table style=\"width: 100%; text-align: left;\">\n",
       "                    <tr>\n",
       "                        <td style=\"text-align: left;\">\n",
       "                            <strong>Comm: </strong> tcp://127.0.0.1:59917\n",
       "                        </td>\n",
       "                        <td style=\"text-align: left;\">\n",
       "                            <strong>Total threads: </strong> 3\n",
       "                        </td>\n",
       "                    </tr>\n",
       "                    <tr>\n",
       "                        <td style=\"text-align: left;\">\n",
       "                            <strong>Dashboard: </strong> <a href=\"http://127.0.0.1:59923/status\" target=\"_blank\">http://127.0.0.1:59923/status</a>\n",
       "                        </td>\n",
       "                        <td style=\"text-align: left;\">\n",
       "                            <strong>Memory: </strong> 16.00 GiB\n",
       "                        </td>\n",
       "                    </tr>\n",
       "                    <tr>\n",
       "                        <td style=\"text-align: left;\">\n",
       "                            <strong>Nanny: </strong> tcp://127.0.0.1:59909\n",
       "                        </td>\n",
       "                        <td style=\"text-align: left;\"></td>\n",
       "                    </tr>\n",
       "                    <tr>\n",
       "                        <td colspan=\"2\" style=\"text-align: left;\">\n",
       "                            <strong>Local directory: </strong> /var/folders/w6/twsr_k_17m3fbmpgvpnp_v700000gn/T/dask-worker-space/worker-cgzihojm\n",
       "                        </td>\n",
       "                    </tr>\n",
       "\n",
       "                    \n",
       "\n",
       "                    \n",
       "\n",
       "                </table>\n",
       "            </details>\n",
       "            </div>\n",
       "        </div>\n",
       "        \n",
       "        <div style=\"margin-bottom: 20px;\">\n",
       "            <div style=\"width: 24px; height: 24px; background-color: #DBF5FF; border: 3px solid #4CC9FF; border-radius: 5px; position: absolute;\"> </div>\n",
       "            <div style=\"margin-left: 48px;\">\n",
       "            <details>\n",
       "                <summary>\n",
       "                    <h4 style=\"margin-bottom: 0px; display: inline;\">Worker: 2</h4>\n",
       "                </summary>\n",
       "                <table style=\"width: 100%; text-align: left;\">\n",
       "                    <tr>\n",
       "                        <td style=\"text-align: left;\">\n",
       "                            <strong>Comm: </strong> tcp://127.0.0.1:59916\n",
       "                        </td>\n",
       "                        <td style=\"text-align: left;\">\n",
       "                            <strong>Total threads: </strong> 3\n",
       "                        </td>\n",
       "                    </tr>\n",
       "                    <tr>\n",
       "                        <td style=\"text-align: left;\">\n",
       "                            <strong>Dashboard: </strong> <a href=\"http://127.0.0.1:59920/status\" target=\"_blank\">http://127.0.0.1:59920/status</a>\n",
       "                        </td>\n",
       "                        <td style=\"text-align: left;\">\n",
       "                            <strong>Memory: </strong> 16.00 GiB\n",
       "                        </td>\n",
       "                    </tr>\n",
       "                    <tr>\n",
       "                        <td style=\"text-align: left;\">\n",
       "                            <strong>Nanny: </strong> tcp://127.0.0.1:59910\n",
       "                        </td>\n",
       "                        <td style=\"text-align: left;\"></td>\n",
       "                    </tr>\n",
       "                    <tr>\n",
       "                        <td colspan=\"2\" style=\"text-align: left;\">\n",
       "                            <strong>Local directory: </strong> /var/folders/w6/twsr_k_17m3fbmpgvpnp_v700000gn/T/dask-worker-space/worker-4wycx52_\n",
       "                        </td>\n",
       "                    </tr>\n",
       "\n",
       "                    \n",
       "\n",
       "                    \n",
       "\n",
       "                </table>\n",
       "            </details>\n",
       "            </div>\n",
       "        </div>\n",
       "        \n",
       "        <div style=\"margin-bottom: 20px;\">\n",
       "            <div style=\"width: 24px; height: 24px; background-color: #DBF5FF; border: 3px solid #4CC9FF; border-radius: 5px; position: absolute;\"> </div>\n",
       "            <div style=\"margin-left: 48px;\">\n",
       "            <details>\n",
       "                <summary>\n",
       "                    <h4 style=\"margin-bottom: 0px; display: inline;\">Worker: 3</h4>\n",
       "                </summary>\n",
       "                <table style=\"width: 100%; text-align: left;\">\n",
       "                    <tr>\n",
       "                        <td style=\"text-align: left;\">\n",
       "                            <strong>Comm: </strong> tcp://127.0.0.1:59918\n",
       "                        </td>\n",
       "                        <td style=\"text-align: left;\">\n",
       "                            <strong>Total threads: </strong> 3\n",
       "                        </td>\n",
       "                    </tr>\n",
       "                    <tr>\n",
       "                        <td style=\"text-align: left;\">\n",
       "                            <strong>Dashboard: </strong> <a href=\"http://127.0.0.1:59922/status\" target=\"_blank\">http://127.0.0.1:59922/status</a>\n",
       "                        </td>\n",
       "                        <td style=\"text-align: left;\">\n",
       "                            <strong>Memory: </strong> 16.00 GiB\n",
       "                        </td>\n",
       "                    </tr>\n",
       "                    <tr>\n",
       "                        <td style=\"text-align: left;\">\n",
       "                            <strong>Nanny: </strong> tcp://127.0.0.1:59911\n",
       "                        </td>\n",
       "                        <td style=\"text-align: left;\"></td>\n",
       "                    </tr>\n",
       "                    <tr>\n",
       "                        <td colspan=\"2\" style=\"text-align: left;\">\n",
       "                            <strong>Local directory: </strong> /var/folders/w6/twsr_k_17m3fbmpgvpnp_v700000gn/T/dask-worker-space/worker-vcsvf5y8\n",
       "                        </td>\n",
       "                    </tr>\n",
       "\n",
       "                    \n",
       "\n",
       "                    \n",
       "\n",
       "                </table>\n",
       "            </details>\n",
       "            </div>\n",
       "        </div>\n",
       "        \n",
       "\n",
       "    </details>\n",
       "</div>\n",
       "\n",
       "        </details>\n",
       "    </div>\n",
       "</div>\n",
       "            </details>\n",
       "        \n",
       "\n",
       "    </div>\n",
       "</div>"
      ],
      "text/plain": [
       "<Client: 'tcp://127.0.0.1:59905' processes=4 threads=12, memory=64.00 GiB>"
      ]
     },
     "execution_count": 63,
     "metadata": {},
     "output_type": "execute_result"
    }
   ],
   "source": [
    "client = cluster.get_client()\n",
    "client"
   ]
  },
  {
   "cell_type": "code",
   "execution_count": 64,
   "id": "f67a0f32",
   "metadata": {},
   "outputs": [],
   "source": [
    "# partitions in the generated dataframe\n",
    "npartitions = 50"
   ]
  },
  {
   "cell_type": "code",
   "execution_count": 65,
   "id": "498c97c3",
   "metadata": {},
   "outputs": [],
   "source": [
    "n = 10_000\n",
    "names = [\n",
    "    \"\".join(random.choices(string.ascii_letters + string.digits + \" \", k=random.randint(10, 100)))\n",
    "    for _ in range(n)\n",
    "] \n",
    "\n",
    "@delayed(pure=False)\n",
    "def make_partition(dtype):\n",
    "    nrows = 1_000_000\n",
    "    data = [random.choice(names) for _ in range(nrows)]\n",
    "    df = pd.DataFrame({\"name\": pd.Series(data, dtype=dtype)})\n",
    "    return df"
   ]
  },
  {
   "cell_type": "code",
   "execution_count": 66,
   "id": "d9dc7475",
   "metadata": {},
   "outputs": [],
   "source": [
    "def get_ddf(persist=False):\n",
    "    meta = pd.DataFrame({\"name\": pd.Series([], dtype=object)})\n",
    "    ddf = dd.from_delayed(\n",
    "        [make_partition(object) for i in range(npartitions)],\n",
    "        meta=meta\n",
    "    )\n",
    "    return ddf.persist() if persist else ddf"
   ]
  },
  {
   "cell_type": "code",
   "execution_count": 67,
   "id": "9722426b",
   "metadata": {},
   "outputs": [],
   "source": [
    "def get_ddf2(persist=False):\n",
    "    meta = pd.DataFrame({\"name\": pd.Series([], dtype=\"string[pyarrow]\")})\n",
    "    ddf = dd.from_delayed(\n",
    "        [make_partition(\"string[pyarrow]\") for i in range(npartitions)],\n",
    "        meta=meta\n",
    "    )\n",
    "    return ddf.persist() if persist else ddf"
   ]
  },
  {
   "cell_type": "markdown",
   "id": "17c24239",
   "metadata": {},
   "source": [
    "## Memory usage"
   ]
  },
  {
   "cell_type": "code",
   "execution_count": 70,
   "id": "9ed4d7aa",
   "metadata": {},
   "outputs": [],
   "source": [
    "from dask.utils import format_bytes"
   ]
  },
  {
   "cell_type": "code",
   "execution_count": 71,
   "id": "b678247a",
   "metadata": {},
   "outputs": [],
   "source": [
    "ddf = get_ddf(True)"
   ]
  },
  {
   "cell_type": "code",
   "execution_count": 72,
   "id": "11ae4010",
   "metadata": {},
   "outputs": [
    {
     "data": {
      "text/plain": [
       "50000000"
      ]
     },
     "execution_count": 72,
     "metadata": {},
     "output_type": "execute_result"
    }
   ],
   "source": [
    "ddf.size.compute()"
   ]
  },
  {
   "cell_type": "code",
   "execution_count": 73,
   "id": "5f0ba8c9",
   "metadata": {},
   "outputs": [
    {
     "data": {
      "text/plain": [
       "name    object\n",
       "dtype: object"
      ]
     },
     "execution_count": 73,
     "metadata": {},
     "output_type": "execute_result"
    }
   ],
   "source": [
    "ddf.dtypes"
   ]
  },
  {
   "cell_type": "code",
   "execution_count": 74,
   "id": "2e899600",
   "metadata": {},
   "outputs": [
    {
     "data": {
      "text/html": [
       "<div>\n",
       "<style scoped>\n",
       "    .dataframe tbody tr th:only-of-type {\n",
       "        vertical-align: middle;\n",
       "    }\n",
       "\n",
       "    .dataframe tbody tr th {\n",
       "        vertical-align: top;\n",
       "    }\n",
       "\n",
       "    .dataframe thead th {\n",
       "        text-align: right;\n",
       "    }\n",
       "</style>\n",
       "<table border=\"1\" class=\"dataframe\">\n",
       "  <thead>\n",
       "    <tr style=\"text-align: right;\">\n",
       "      <th></th>\n",
       "      <th>name</th>\n",
       "    </tr>\n",
       "  </thead>\n",
       "  <tbody>\n",
       "    <tr>\n",
       "      <th>0</th>\n",
       "      <td>IqmYv3ZoE0NZl1PHyIhkXUwqVePYuBVisQraFyAXepi6BC...</td>\n",
       "    </tr>\n",
       "    <tr>\n",
       "      <th>1</th>\n",
       "      <td>XE4KLPN6istM312ehCT2G1Rl9tllAgUgv</td>\n",
       "    </tr>\n",
       "    <tr>\n",
       "      <th>2</th>\n",
       "      <td>Nk1Nau7SC37 KW6sewRk87f21nMNUyXDvsp1 pZ0QQKfR6...</td>\n",
       "    </tr>\n",
       "    <tr>\n",
       "      <th>3</th>\n",
       "      <td>PQQ6PikvUDryu5wCDkvg</td>\n",
       "    </tr>\n",
       "    <tr>\n",
       "      <th>4</th>\n",
       "      <td>MhoU2WbL5l18Zu1OKYUZ8hGn0VbA</td>\n",
       "    </tr>\n",
       "    <tr>\n",
       "      <th>5</th>\n",
       "      <td>8 5opcWh3Xa9duAmFOV7XYurRNF66iVWnCWwS6AKsP6D4y...</td>\n",
       "    </tr>\n",
       "    <tr>\n",
       "      <th>6</th>\n",
       "      <td>mJS24x5cHzyhB1FdnwAl dGauzOJ80A1K9fEg RgNo3ULQ...</td>\n",
       "    </tr>\n",
       "    <tr>\n",
       "      <th>7</th>\n",
       "      <td>yQcvkw6zy2fqSY3NglXkPIuoYAfO4am0dKu1oL2i9dUavZ...</td>\n",
       "    </tr>\n",
       "    <tr>\n",
       "      <th>8</th>\n",
       "      <td>ccJlnUXrYxZjD9CmJxdtZtLuxbrTSj CJbb g7x32IqBVf...</td>\n",
       "    </tr>\n",
       "    <tr>\n",
       "      <th>9</th>\n",
       "      <td>63HlDri xvgPKYvh0PSMaHl</td>\n",
       "    </tr>\n",
       "  </tbody>\n",
       "</table>\n",
       "</div>"
      ],
      "text/plain": [
       "                                                name\n",
       "0  IqmYv3ZoE0NZl1PHyIhkXUwqVePYuBVisQraFyAXepi6BC...\n",
       "1                  XE4KLPN6istM312ehCT2G1Rl9tllAgUgv\n",
       "2  Nk1Nau7SC37 KW6sewRk87f21nMNUyXDvsp1 pZ0QQKfR6...\n",
       "3                               PQQ6PikvUDryu5wCDkvg\n",
       "4                       MhoU2WbL5l18Zu1OKYUZ8hGn0VbA\n",
       "5  8 5opcWh3Xa9duAmFOV7XYurRNF66iVWnCWwS6AKsP6D4y...\n",
       "6  mJS24x5cHzyhB1FdnwAl dGauzOJ80A1K9fEg RgNo3ULQ...\n",
       "7  yQcvkw6zy2fqSY3NglXkPIuoYAfO4am0dKu1oL2i9dUavZ...\n",
       "8  ccJlnUXrYxZjD9CmJxdtZtLuxbrTSj CJbb g7x32IqBVf...\n",
       "9                            63HlDri xvgPKYvh0PSMaHl"
      ]
     },
     "execution_count": 74,
     "metadata": {},
     "output_type": "execute_result"
    }
   ],
   "source": [
    "ddf.head(10)"
   ]
  },
  {
   "cell_type": "code",
   "execution_count": 75,
   "id": "9ecbface",
   "metadata": {},
   "outputs": [
    {
     "data": {
      "text/plain": [
       "'5.20 GiB'"
      ]
     },
     "execution_count": 75,
     "metadata": {},
     "output_type": "execute_result"
    }
   ],
   "source": [
    "format_bytes(ddf.memory_usage(deep=True).sum().compute())"
   ]
  },
  {
   "cell_type": "code",
   "execution_count": 76,
   "id": "2c5a3481",
   "metadata": {},
   "outputs": [
    {
     "data": {
      "text/plain": [
       "0     106.49 MiB\n",
       "1     106.46 MiB\n",
       "2     106.50 MiB\n",
       "3     106.46 MiB\n",
       "4     106.52 MiB\n",
       "5     106.48 MiB\n",
       "6     106.51 MiB\n",
       "7     106.47 MiB\n",
       "8     106.43 MiB\n",
       "9     106.51 MiB\n",
       "10    106.45 MiB\n",
       "11    106.48 MiB\n",
       "12    106.46 MiB\n",
       "13    106.44 MiB\n",
       "14    106.43 MiB\n",
       "15    106.51 MiB\n",
       "16    106.42 MiB\n",
       "17    106.46 MiB\n",
       "18    106.52 MiB\n",
       "19    106.45 MiB\n",
       "20    106.48 MiB\n",
       "21    106.44 MiB\n",
       "22    106.44 MiB\n",
       "23    106.47 MiB\n",
       "24    106.51 MiB\n",
       "25    106.51 MiB\n",
       "26    106.48 MiB\n",
       "27    106.46 MiB\n",
       "28    106.49 MiB\n",
       "29    106.45 MiB\n",
       "30    106.45 MiB\n",
       "31    106.47 MiB\n",
       "32    106.51 MiB\n",
       "33    106.42 MiB\n",
       "34    106.53 MiB\n",
       "35    106.50 MiB\n",
       "36    106.50 MiB\n",
       "37    106.45 MiB\n",
       "38    106.46 MiB\n",
       "39    106.45 MiB\n",
       "40    106.50 MiB\n",
       "41    106.43 MiB\n",
       "42    106.49 MiB\n",
       "43    106.48 MiB\n",
       "44    106.51 MiB\n",
       "45    106.43 MiB\n",
       "46    106.42 MiB\n",
       "47    106.50 MiB\n",
       "48    106.45 MiB\n",
       "49    106.51 MiB\n",
       "dtype: object"
      ]
     },
     "execution_count": 76,
     "metadata": {},
     "output_type": "execute_result"
    }
   ],
   "source": [
    "memory_usage_object = ddf.memory_usage_per_partition(deep=True).compute().apply(format_bytes)\n",
    "memory_usage_object"
   ]
  },
  {
   "cell_type": "code",
   "execution_count": 17,
   "id": "1245f300",
   "metadata": {},
   "outputs": [],
   "source": [
    "ddf2 = get_ddf2(True)"
   ]
  },
  {
   "cell_type": "code",
   "execution_count": 18,
   "id": "4239dc71",
   "metadata": {},
   "outputs": [
    {
     "data": {
      "text/plain": [
       "name    string[pyarrow]\n",
       "dtype: object"
      ]
     },
     "execution_count": 18,
     "metadata": {},
     "output_type": "execute_result"
    }
   ],
   "source": [
    "ddf2.dtypes"
   ]
  },
  {
   "cell_type": "code",
   "execution_count": 19,
   "id": "28ec3c8e",
   "metadata": {},
   "outputs": [
    {
     "data": {
      "text/plain": [
       "'2.73 GiB'"
      ]
     },
     "execution_count": 19,
     "metadata": {},
     "output_type": "execute_result"
    }
   ],
   "source": [
    "format_bytes(ddf2.memory_usage(deep=True).sum().compute())"
   ]
  },
  {
   "cell_type": "code",
   "execution_count": 20,
   "id": "5772edfa",
   "metadata": {},
   "outputs": [
    {
     "data": {
      "text/plain": [
       "0     55.95 MiB\n",
       "1     55.91 MiB\n",
       "2     55.95 MiB\n",
       "3     55.92 MiB\n",
       "4     55.97 MiB\n",
       "5     55.97 MiB\n",
       "6     55.98 MiB\n",
       "7     55.90 MiB\n",
       "8     55.93 MiB\n",
       "9     55.96 MiB\n",
       "10    55.96 MiB\n",
       "11    55.96 MiB\n",
       "12    55.95 MiB\n",
       "13    55.97 MiB\n",
       "14    55.94 MiB\n",
       "15    55.92 MiB\n",
       "16    55.94 MiB\n",
       "17    55.90 MiB\n",
       "18    55.94 MiB\n",
       "19    55.92 MiB\n",
       "20    55.93 MiB\n",
       "21    55.96 MiB\n",
       "22    55.95 MiB\n",
       "23    55.92 MiB\n",
       "24    55.94 MiB\n",
       "25    55.92 MiB\n",
       "26    55.98 MiB\n",
       "27    55.93 MiB\n",
       "28    55.96 MiB\n",
       "29    55.94 MiB\n",
       "30    55.93 MiB\n",
       "31    55.96 MiB\n",
       "32    55.92 MiB\n",
       "33    55.94 MiB\n",
       "34    55.90 MiB\n",
       "35    55.90 MiB\n",
       "36    55.95 MiB\n",
       "37    55.96 MiB\n",
       "38    55.92 MiB\n",
       "39    55.89 MiB\n",
       "40    55.92 MiB\n",
       "41    55.93 MiB\n",
       "42    55.92 MiB\n",
       "43    55.97 MiB\n",
       "44    55.91 MiB\n",
       "45    55.96 MiB\n",
       "46    55.92 MiB\n",
       "47    55.95 MiB\n",
       "48    55.91 MiB\n",
       "49    55.98 MiB\n",
       "dtype: object"
      ]
     },
     "execution_count": 20,
     "metadata": {},
     "output_type": "execute_result"
    }
   ],
   "source": [
    "memory_usage_string = ddf2.memory_usage_per_partition().compute().apply(format_bytes)\n",
    "memory_usage_string"
   ]
  },
  {
   "cell_type": "markdown",
   "id": "431e0730",
   "metadata": {},
   "source": [
    "## Running time"
   ]
  },
  {
   "cell_type": "code",
   "execution_count": 40,
   "id": "af7f42a4",
   "metadata": {},
   "outputs": [
    {
     "name": "stderr",
     "output_type": "stream",
     "text": [
      "2023-03-30 11:59:18,455 - distributed.nanny - WARNING - Restarting worker\n",
      "2023-03-30 11:59:18,457 - distributed.nanny - WARNING - Restarting worker\n",
      "2023-03-30 11:59:18,475 - distributed.nanny - WARNING - Restarting worker\n",
      "2023-03-30 11:59:18,476 - distributed.nanny - WARNING - Restarting worker\n"
     ]
    }
   ],
   "source": [
    "client.restart();"
   ]
  },
  {
   "cell_type": "code",
   "execution_count": 41,
   "id": "045c9bc9",
   "metadata": {},
   "outputs": [],
   "source": [
    "ddf = get_ddf(True)"
   ]
  },
  {
   "cell_type": "code",
   "execution_count": 42,
   "id": "4f53f578",
   "metadata": {},
   "outputs": [],
   "source": [
    "wait(ddf);"
   ]
  },
  {
   "cell_type": "code",
   "execution_count": 44,
   "id": "798c7a3f",
   "metadata": {},
   "outputs": [
    {
     "name": "stdout",
     "output_type": "stream",
     "text": [
      "The slowest run took 98.66 times longer than the fastest. This could mean that an intermediate result is being cached.\n",
      "248 ms ± 228 ms per loop (mean ± std. dev. of 5 runs, 2 loops each)\n"
     ]
    }
   ],
   "source": [
    "%timeit -r 5 -n 2 ddf.name.unique().compute()"
   ]
  },
  {
   "cell_type": "code",
   "execution_count": 45,
   "id": "2bddb766",
   "metadata": {},
   "outputs": [
    {
     "name": "stdout",
     "output_type": "stream",
     "text": [
      "The slowest run took 84.80 times longer than the fastest. This could mean that an intermediate result is being cached.\n",
      "277 ms ± 250 ms per loop (mean ± std. dev. of 5 runs, 2 loops each)\n"
     ]
    }
   ],
   "source": [
    "%timeit -r 5 -n 2 ddf.groupby(\"name\").count().compute()"
   ]
  },
  {
   "cell_type": "code",
   "execution_count": 46,
   "id": "f9a1f5f8",
   "metadata": {},
   "outputs": [
    {
     "name": "stdout",
     "output_type": "stream",
     "text": [
      "1.9 s ± 19.8 ms per loop (mean ± std. dev. of 5 runs, 2 loops each)\n"
     ]
    }
   ],
   "source": [
    "%timeit -r 5 -n 2 ddf.name.str.startswith(\"a\").compute()"
   ]
  },
  {
   "cell_type": "code",
   "execution_count": 48,
   "id": "b73c0513",
   "metadata": {},
   "outputs": [
    {
     "name": "stdout",
     "output_type": "stream",
     "text": [
      "2.03 s ± 7.22 ms per loop (mean ± std. dev. of 5 runs, 2 loops each)\n"
     ]
    }
   ],
   "source": [
    "%timeit -r 5 -n 2 ddf.name.str.len().compute()"
   ]
  },
  {
   "cell_type": "code",
   "execution_count": 49,
   "id": "df3932e8",
   "metadata": {},
   "outputs": [
    {
     "name": "stderr",
     "output_type": "stream",
     "text": [
      "2023-03-30 12:00:50,146 - distributed.nanny - WARNING - Restarting worker\n",
      "2023-03-30 12:00:50,167 - distributed.nanny - WARNING - Restarting worker\n",
      "2023-03-30 12:00:50,168 - distributed.nanny - WARNING - Restarting worker\n",
      "2023-03-30 12:00:50,173 - distributed.nanny - WARNING - Restarting worker\n"
     ]
    }
   ],
   "source": [
    "client.restart();"
   ]
  },
  {
   "cell_type": "code",
   "execution_count": 50,
   "id": "e866c871",
   "metadata": {},
   "outputs": [],
   "source": [
    "ddf2 = get_ddf2(True)"
   ]
  },
  {
   "cell_type": "code",
   "execution_count": 51,
   "id": "afde080f",
   "metadata": {},
   "outputs": [],
   "source": [
    "wait(ddf2);"
   ]
  },
  {
   "cell_type": "code",
   "execution_count": 53,
   "id": "ed6784ee",
   "metadata": {},
   "outputs": [
    {
     "name": "stdout",
     "output_type": "stream",
     "text": [
      "The slowest run took 24.02 times longer than the fastest. This could mean that an intermediate result is being cached.\n",
      "79.1 ms ± 87 ms per loop (mean ± std. dev. of 5 runs, 2 loops each)\n"
     ]
    }
   ],
   "source": [
    "%timeit -r 5 -n 2 ddf2.name.unique().compute()"
   ]
  },
  {
   "cell_type": "code",
   "execution_count": 54,
   "id": "7de6b171",
   "metadata": {},
   "outputs": [
    {
     "name": "stdout",
     "output_type": "stream",
     "text": [
      "396 ms ± 7.49 ms per loop (mean ± std. dev. of 5 runs, 2 loops each)\n"
     ]
    }
   ],
   "source": [
    "%timeit -r 5 -n 2 ddf2.groupby(\"name\").count().compute()"
   ]
  },
  {
   "cell_type": "code",
   "execution_count": 55,
   "id": "73f5bb21",
   "metadata": {},
   "outputs": [
    {
     "name": "stdout",
     "output_type": "stream",
     "text": [
      "263 ms ± 16.6 ms per loop (mean ± std. dev. of 5 runs, 2 loops each)\n"
     ]
    }
   ],
   "source": [
    "%timeit -r 5 -n 2 ddf2.name.str.startswith(\"a\").compute()"
   ]
  },
  {
   "cell_type": "code",
   "execution_count": 56,
   "id": "73c38c54",
   "metadata": {},
   "outputs": [
    {
     "name": "stdout",
     "output_type": "stream",
     "text": [
      "698 ms ± 14.3 ms per loop (mean ± std. dev. of 5 runs, 2 loops each)\n"
     ]
    }
   ],
   "source": [
    "%timeit -r 5 -n 2 ddf2.name.str.len().compute()"
   ]
  },
  {
   "cell_type": "markdown",
   "id": "41edfff3",
   "metadata": {},
   "source": [
    "## Create memory samplers and store benchmarks"
   ]
  },
  {
   "cell_type": "code",
   "execution_count": 23,
   "id": "1ababf28",
   "metadata": {},
   "outputs": [],
   "source": [
    "ms1 = MemorySampler()\n",
    "ms2 = MemorySampler()\n",
    "ms3 = MemorySampler()\n",
    "ms4 = MemorySampler()"
   ]
  },
  {
   "cell_type": "code",
   "execution_count": 24,
   "id": "472e1077",
   "metadata": {},
   "outputs": [],
   "source": [
    "report_dir = \"performance/local4workers2\""
   ]
  },
  {
   "cell_type": "code",
   "execution_count": 25,
   "id": "d1cb42c7",
   "metadata": {},
   "outputs": [],
   "source": [
    "import time"
   ]
  },
  {
   "cell_type": "markdown",
   "id": "7f96b5ac",
   "metadata": {},
   "source": [
    "## Benchmark 1"
   ]
  },
  {
   "cell_type": "code",
   "execution_count": 26,
   "id": "7b3808ba",
   "metadata": {},
   "outputs": [
    {
     "name": "stderr",
     "output_type": "stream",
     "text": [
      "2023-03-30 12:10:09,199 - distributed.nanny - WARNING - Restarting worker\n",
      "2023-03-30 12:10:09,210 - distributed.nanny - WARNING - Restarting worker\n",
      "2023-03-30 12:10:09,211 - distributed.nanny - WARNING - Restarting worker\n",
      "2023-03-30 12:10:09,212 - distributed.nanny - WARNING - Restarting worker\n"
     ]
    }
   ],
   "source": [
    "client.restart();"
   ]
  },
  {
   "cell_type": "code",
   "execution_count": 27,
   "id": "b494314c",
   "metadata": {},
   "outputs": [],
   "source": [
    "# 1\n",
    "with performance_report(filename=f\"{report_dir}/1-object-unique.html\"):\n",
    "    with ms1.sample(\"object string\", interval=0.01):\n",
    "        for _ in range(1):\n",
    "            get_ddf(True).name.unique().compute()\n",
    "            time.sleep(0.2)"
   ]
  },
  {
   "cell_type": "code",
   "execution_count": 28,
   "id": "54941f40",
   "metadata": {},
   "outputs": [
    {
     "name": "stderr",
     "output_type": "stream",
     "text": [
      "2023-03-30 12:10:17,641 - distributed.nanny - WARNING - Restarting worker\n",
      "2023-03-30 12:10:17,652 - distributed.nanny - WARNING - Restarting worker\n",
      "2023-03-30 12:10:17,653 - distributed.nanny - WARNING - Restarting worker\n",
      "2023-03-30 12:10:17,654 - distributed.nanny - WARNING - Restarting worker\n"
     ]
    }
   ],
   "source": [
    "client.restart();"
   ]
  },
  {
   "cell_type": "code",
   "execution_count": 29,
   "id": "39b82d68",
   "metadata": {},
   "outputs": [],
   "source": [
    "# 1, ddf2\n",
    "with performance_report(filename=f\"{report_dir}/1-string-unique.html\"):\n",
    "    with ms1.sample(\"arrow string\", interval=0.01):\n",
    "        for _ in range(1):\n",
    "            get_ddf2(True).name.unique().compute()\n",
    "            time.sleep(0.2)"
   ]
  },
  {
   "cell_type": "code",
   "execution_count": 30,
   "id": "639d6ca2",
   "metadata": {},
   "outputs": [
    {
     "data": {
      "text/plain": [
       "<Axes: title={'center': 'Unique'}, xlabel='time', ylabel='Cluster memory (GiB)'>"
      ]
     },
     "execution_count": 30,
     "metadata": {},
     "output_type": "execute_result"
    },
    {
     "data": {
      "image/png": "[encoded data removed]",
      "text/plain": [
       "<Figure size 640x480 with 1 Axes>"
      ]
     },
     "metadata": {},
     "output_type": "display_data"
    }
   ],
   "source": [
    "ms1.plot(align=True, title=\"Unique\")"
   ]
  },
  {
   "cell_type": "markdown",
   "id": "983b05b1",
   "metadata": {},
   "source": [
    "## Benchmark 2"
   ]
  },
  {
   "cell_type": "code",
   "execution_count": 31,
   "id": "f568c5e9",
   "metadata": {},
   "outputs": [
    {
     "name": "stderr",
     "output_type": "stream",
     "text": [
      "2023-03-30 12:10:31,476 - distributed.nanny - WARNING - Restarting worker\n",
      "2023-03-30 12:10:31,501 - distributed.nanny - WARNING - Restarting worker\n",
      "2023-03-30 12:10:31,510 - distributed.nanny - WARNING - Restarting worker\n",
      "2023-03-30 12:10:31,511 - distributed.nanny - WARNING - Restarting worker\n"
     ]
    }
   ],
   "source": [
    "client.restart();"
   ]
  },
  {
   "cell_type": "code",
   "execution_count": 32,
   "id": "2a6d6947",
   "metadata": {},
   "outputs": [],
   "source": [
    "# 2\n",
    "with performance_report(filename=f\"{report_dir}/2-object-group-count.html\"):\n",
    "    with ms2.sample(\"object string\", interval=0.01):\n",
    "        for _ in range(1):\n",
    "            get_ddf(True).groupby(\"name\").count().compute()\n",
    "            time.sleep(0.2)"
   ]
  },
  {
   "cell_type": "code",
   "execution_count": 33,
   "id": "de7e93a4",
   "metadata": {},
   "outputs": [
    {
     "name": "stderr",
     "output_type": "stream",
     "text": [
      "2023-03-30 12:10:40,845 - distributed.nanny - WARNING - Restarting worker\n",
      "2023-03-30 12:10:40,866 - distributed.nanny - WARNING - Restarting worker\n",
      "2023-03-30 12:10:40,867 - distributed.nanny - WARNING - Restarting worker\n",
      "2023-03-30 12:10:40,868 - distributed.nanny - WARNING - Restarting worker\n"
     ]
    }
   ],
   "source": [
    "client.restart();"
   ]
  },
  {
   "cell_type": "code",
   "execution_count": 34,
   "id": "a764cf72",
   "metadata": {},
   "outputs": [],
   "source": [
    "# 2, ddf2\n",
    "with performance_report(filename=f\"{report_dir}/2-string-group-count.html\"):\n",
    "    with ms2.sample(\"arrow string\", interval=0.01):\n",
    "        for _ in range(1):\n",
    "            get_ddf2(True).groupby(\"name\").count().compute()\n",
    "            time.sleep(0.2)"
   ]
  },
  {
   "cell_type": "code",
   "execution_count": 35,
   "id": "990e7934",
   "metadata": {},
   "outputs": [
    {
     "data": {
      "text/plain": [
       "<Axes: title={'center': 'Groupby/count'}, xlabel='time', ylabel='Cluster memory (GiB)'>"
      ]
     },
     "execution_count": 35,
     "metadata": {},
     "output_type": "execute_result"
    },
    {
     "data": {
      "image/png": "[encoded data removed]",
      "text/plain": [
       "<Figure size 640x480 with 1 Axes>"
      ]
     },
     "metadata": {},
     "output_type": "display_data"
    }
   ],
   "source": [
    "ms2.plot(align=True, title=\"Groupby/count\")"
   ]
  },
  {
   "cell_type": "markdown",
   "id": "edc8befa",
   "metadata": {},
   "source": [
    "## Benchmark 3"
   ]
  },
  {
   "cell_type": "code",
   "execution_count": 44,
   "id": "c6633d24",
   "metadata": {},
   "outputs": [
    {
     "name": "stderr",
     "output_type": "stream",
     "text": [
      "2023-03-30 12:49:27,077 - distributed.nanny - WARNING - Restarting worker\n",
      "2023-03-30 12:49:27,090 - distributed.nanny - WARNING - Restarting worker\n",
      "2023-03-30 12:49:27,092 - distributed.nanny - WARNING - Restarting worker\n",
      "2023-03-30 12:49:27,100 - distributed.nanny - WARNING - Restarting worker\n"
     ]
    }
   ],
   "source": [
    "client.restart();"
   ]
  },
  {
   "cell_type": "code",
   "execution_count": 45,
   "id": "8e9f482a",
   "metadata": {},
   "outputs": [],
   "source": [
    "# 3\n",
    "with performance_report(filename=f\"{report_dir}/3-object-startswith.html\"):\n",
    "    with ms3.sample(\"object string\", interval=0.01):\n",
    "        for _ in range(1):\n",
    "            get_ddf(True).name.str.startswith(\"a\").compute()\n",
    "            time.sleep(0.2)"
   ]
  },
  {
   "cell_type": "code",
   "execution_count": 46,
   "id": "94bccd49",
   "metadata": {},
   "outputs": [
    {
     "name": "stderr",
     "output_type": "stream",
     "text": [
      "2023-03-30 12:50:11,198 - distributed.nanny - WARNING - Restarting worker\n",
      "2023-03-30 12:50:11,216 - distributed.nanny - WARNING - Restarting worker\n",
      "2023-03-30 12:50:11,217 - distributed.nanny - WARNING - Restarting worker\n",
      "2023-03-30 12:50:11,218 - distributed.nanny - WARNING - Restarting worker\n"
     ]
    }
   ],
   "source": [
    "client.restart();"
   ]
  },
  {
   "cell_type": "code",
   "execution_count": 47,
   "id": "de7c8c08",
   "metadata": {},
   "outputs": [],
   "source": [
    "# 3, ddf2\n",
    "with performance_report(filename=f\"{report_dir}/3-string-startswith.html\"):\n",
    "    with ms3.sample(\"arrow string\", interval=0.01):\n",
    "        for _ in range(1):\n",
    "            get_ddf2(True).name.str.startswith(\"a\").compute()\n",
    "            time.sleep(0.2)"
   ]
  },
  {
   "cell_type": "code",
   "execution_count": 48,
   "id": "b4a39329",
   "metadata": {},
   "outputs": [
    {
     "data": {
      "text/plain": [
       "<Axes: title={'center': 'String startswith'}, xlabel='time', ylabel='Cluster memory (GiB)'>"
      ]
     },
     "execution_count": 48,
     "metadata": {},
     "output_type": "execute_result"
    },
    {
     "data": {
      "image/png": "[encoded data removed]",
      "text/plain": [
       "<Figure size 640x480 with 1 Axes>"
      ]
     },
     "metadata": {},
     "output_type": "display_data"
    }
   ],
   "source": [
    "ms3.plot(align=True, title=\"String startswith\")"
   ]
  },
  {
   "cell_type": "markdown",
   "id": "5294e65a",
   "metadata": {},
   "source": [
    "## Benchmark 4"
   ]
  },
  {
   "cell_type": "code",
   "execution_count": 51,
   "id": "8dd155bf",
   "metadata": {},
   "outputs": [
    {
     "name": "stderr",
     "output_type": "stream",
     "text": [
      "2023-03-30 12:50:40,011 - distributed.nanny - WARNING - Restarting worker\n",
      "2023-03-30 12:50:40,035 - distributed.nanny - WARNING - Restarting worker\n",
      "2023-03-30 12:50:40,036 - distributed.nanny - WARNING - Restarting worker\n",
      "2023-03-30 12:50:40,037 - distributed.nanny - WARNING - Restarting worker\n"
     ]
    }
   ],
   "source": [
    "client.restart();"
   ]
  },
  {
   "cell_type": "code",
   "execution_count": 52,
   "id": "e7a3c9b8",
   "metadata": {},
   "outputs": [],
   "source": [
    "# 4\n",
    "with performance_report(filename=f\"{report_dir}/4-object-strlen.html\"):\n",
    "    with ms4.sample(\"object string\", interval=0.01):\n",
    "        for _ in range(1):\n",
    "            get_ddf(True).name.str.len().compute()\n",
    "            time.sleep(0.2)"
   ]
  },
  {
   "cell_type": "code",
   "execution_count": 54,
   "id": "efea52ae",
   "metadata": {},
   "outputs": [
    {
     "name": "stderr",
     "output_type": "stream",
     "text": [
      "2023-03-30 12:51:07,062 - distributed.nanny - WARNING - Restarting worker\n",
      "2023-03-30 12:51:07,092 - distributed.nanny - WARNING - Restarting worker\n",
      "2023-03-30 12:51:07,093 - distributed.nanny - WARNING - Restarting worker\n",
      "2023-03-30 12:51:07,094 - distributed.nanny - WARNING - Restarting worker\n"
     ]
    }
   ],
   "source": [
    "client.restart();"
   ]
  },
  {
   "cell_type": "code",
   "execution_count": 55,
   "id": "407ef43f",
   "metadata": {},
   "outputs": [],
   "source": [
    "# 4, ddf2\n",
    "with performance_report(filename=f\"{report_dir}/4-string-strlen.html\"):\n",
    "    with ms4.sample(\"arrow string\", interval=0.01):\n",
    "        for _ in range(1):\n",
    "            get_ddf2().name.str.len().compute()\n",
    "            time.sleep(0.2)"
   ]
  },
  {
   "cell_type": "code",
   "execution_count": 56,
   "id": "4be0a047",
   "metadata": {},
   "outputs": [
    {
     "data": {
      "text/plain": [
       "<Axes: title={'center': 'String length'}, xlabel='time', ylabel='Cluster memory (GiB)'>"
      ]
     },
     "execution_count": 56,
     "metadata": {},
     "output_type": "execute_result"
    },
    {
     "data": {
      "image/png": "[encoded data removed]",
      "text/plain": [
       "<Figure size 640x480 with 1 Axes>"
      ]
     },
     "metadata": {},
     "output_type": "display_data"
    }
   ],
   "source": [
    "ms4.plot(align=True, title=\"String length\")"
   ]
  },
  {
   "cell_type": "code",
   "execution_count": 57,
   "id": "06a61652",
   "metadata": {},
   "outputs": [],
   "source": [
    "client.close()"
   ]
  },
  {
   "cell_type": "code",
   "execution_count": 58,
   "id": "eb133c25",
   "metadata": {},
   "outputs": [],
   "source": [
    "cluster.close()"
   ]
  },
  {
   "cell_type": "code",
   "execution_count": null,
   "id": "e2ac2827",
   "metadata": {},
   "outputs": [],
   "source": []
  }
 ],
 "metadata": {
  "kernelspec": {
   "display_name": "Python 3 (ipykernel)",
   "language": "python",
   "name": "python3"
  },
  "language_info": {
   "codemirror_mode": {
    "name": "ipython",
    "version": 3
   },
   "file_extension": ".py",
   "mimetype": "text/x-python",
   "name": "python",
   "nbconvert_exporter": "python",
   "pygments_lexer": "ipython3",
   "version": "3.11.0"
  }
 },
 "nbformat": 4,
 "nbformat_minor": 5
}
