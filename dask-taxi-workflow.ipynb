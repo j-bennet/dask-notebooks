{
 "cells": [
  {
   "cell_type": "markdown",
   "id": "5c99e647",
   "metadata": {},
   "source": [
    "## NYC taxi uber/lyft workflow"
   ]
  },
  {
   "cell_type": "code",
   "execution_count": 1,
   "id": "1a5527d3",
   "metadata": {},
   "outputs": [],
   "source": [
    "import warnings\n",
    "warnings.simplefilter(action='ignore', category=FutureWarning)"
   ]
  },
  {
   "cell_type": "code",
   "execution_count": 2,
   "id": "f58eedf4",
   "metadata": {},
   "outputs": [
    {
     "name": "stdout",
     "output_type": "stream",
     "text": [
      "{\n",
      "  \"Python\": \"3.11.0\",\n",
      "  \"Platform\": \"Darwin\",\n",
      "  \"dask\": \"2023.3.2\",\n",
      "  \"distributed\": \"2023.3.2\",\n",
      "  \"numpy\": \"1.23.5\",\n",
      "  \"pandas\": \"2.0.0\",\n",
      "  \"cloudpickle\": \"2.2.1\",\n",
      "  \"fsspec\": \"2023.3.0\",\n",
      "  \"bokeh\": \"2.4.3\",\n",
      "  \"fastparquet\": null,\n",
      "  \"pyarrow\": \"11.0.0\",\n",
      "  \"zarr\": null\n",
      "}"
     ]
    }
   ],
   "source": [
    "import dask\n",
    "dask.utils.show_versions()"
   ]
  },
  {
   "cell_type": "code",
   "execution_count": 3,
   "id": "e6baa3d8",
   "metadata": {},
   "outputs": [],
   "source": [
    "import pandas as pd\n",
    "import numpy as np\n",
    "from dask.sizeof import sizeof\n",
    "from dask.utils import format_bytes\n",
    "from dask import delayed\n",
    "from dask.distributed import PipInstall, PackageInstall\n",
    "import dask.dataframe as dd\n",
    "import random\n",
    "import string\n",
    "from distributed import wait\n",
    "from distributed import Client\n",
    "from distributed.diagnostics import MemorySampler\n",
    "import coiled\n",
    "import matplotlib\n",
    "import matplotlib.pyplot as plt"
   ]
  },
  {
   "cell_type": "code",
   "execution_count": 4,
   "id": "8b7d2d79",
   "metadata": {},
   "outputs": [],
   "source": [
    "import crick"
   ]
  },
  {
   "cell_type": "code",
   "execution_count": 5,
   "id": "b4fd4247",
   "metadata": {},
   "outputs": [],
   "source": [
    "from dask.distributed import performance_report"
   ]
  },
  {
   "cell_type": "code",
   "execution_count": 6,
   "id": "b1764931",
   "metadata": {},
   "outputs": [
    {
     "data": {
      "application/vnd.jupyter.widget-view+json": {
       "model_id": "a104f712400c4873a3c8291864d45fdb",
       "version_major": 2,
       "version_minor": 0
      },
      "text/html": [
       "<div class=\"jp-RenderedHTMLCommon jp-RenderedHTML jp-mod-trusted jp-OutputArea-output\">\n",
       "    <div style=\"width: 24px; height: 24px; background-color: #e1e1e1; border: 3px solid #9D9D9D; border-radius: 5px; position: absolute;\">\n",
       "    </div>\n",
       "    <div style=\"margin-left: 48px;\">\n",
       "        <h3 style=\"margin-bottom: 0px; margin-top: 0px;\">LocalCluster</h3>\n",
       "        <p style=\"color: #9D9D9D; margin-bottom: 0px;\">d5895bf4</p>\n",
       "        <table style=\"width: 100%; text-align: left;\">\n",
       "            <tr>\n",
       "                <td style=\"text-align: left;\">\n",
       "                    <strong>Dashboard:</strong> <a href=\"http://127.0.0.1:8787/status\" target=\"_blank\">http://127.0.0.1:8787/status</a>\n",
       "                </td>\n",
       "                <td style=\"text-align: left;\">\n",
       "                    <strong>Workers:</strong> 4\n",
       "                </td>\n",
       "            </tr>\n",
       "            <tr>\n",
       "                <td style=\"text-align: left;\">\n",
       "                    <strong>Total threads:</strong> 12\n",
       "                </td>\n",
       "                <td style=\"text-align: left;\">\n",
       "                    <strong>Total memory:</strong> 64.00 GiB\n",
       "                </td>\n",
       "            </tr>\n",
       "            \n",
       "            <tr>\n",
       "    <td style=\"text-align: left;\"><strong>Status:</strong> running</td>\n",
       "    <td style=\"text-align: left;\"><strong>Using processes:</strong> True</td>\n",
       "</tr>\n",
       "\n",
       "            \n",
       "        </table>\n",
       "\n",
       "        <details>\n",
       "            <summary style=\"margin-bottom: 20px;\">\n",
       "                <h3 style=\"display: inline;\">Scheduler Info</h3>\n",
       "            </summary>\n",
       "\n",
       "            <div style=\"\">\n",
       "    <div>\n",
       "        <div style=\"width: 24px; height: 24px; background-color: #FFF7E5; border: 3px solid #FF6132; border-radius: 5px; position: absolute;\"> </div>\n",
       "        <div style=\"margin-left: 48px;\">\n",
       "            <h3 style=\"margin-bottom: 0px;\">Scheduler</h3>\n",
       "            <p style=\"color: #9D9D9D; margin-bottom: 0px;\">Scheduler-ae87a580-e736-4051-a00d-f6fa7e074bf2</p>\n",
       "            <table style=\"width: 100%; text-align: left;\">\n",
       "                <tr>\n",
       "                    <td style=\"text-align: left;\">\n",
       "                        <strong>Comm:</strong> tcp://127.0.0.1:54791\n",
       "                    </td>\n",
       "                    <td style=\"text-align: left;\">\n",
       "                        <strong>Workers:</strong> 4\n",
       "                    </td>\n",
       "                </tr>\n",
       "                <tr>\n",
       "                    <td style=\"text-align: left;\">\n",
       "                        <strong>Dashboard:</strong> <a href=\"http://127.0.0.1:8787/status\" target=\"_blank\">http://127.0.0.1:8787/status</a>\n",
       "                    </td>\n",
       "                    <td style=\"text-align: left;\">\n",
       "                        <strong>Total threads:</strong> 12\n",
       "                    </td>\n",
       "                </tr>\n",
       "                <tr>\n",
       "                    <td style=\"text-align: left;\">\n",
       "                        <strong>Started:</strong> Just now\n",
       "                    </td>\n",
       "                    <td style=\"text-align: left;\">\n",
       "                        <strong>Total memory:</strong> 64.00 GiB\n",
       "                    </td>\n",
       "                </tr>\n",
       "            </table>\n",
       "        </div>\n",
       "    </div>\n",
       "\n",
       "    <details style=\"margin-left: 48px;\">\n",
       "        <summary style=\"margin-bottom: 20px;\">\n",
       "            <h3 style=\"display: inline;\">Workers</h3>\n",
       "        </summary>\n",
       "\n",
       "        \n",
       "        <div style=\"margin-bottom: 20px;\">\n",
       "            <div style=\"width: 24px; height: 24px; background-color: #DBF5FF; border: 3px solid #4CC9FF; border-radius: 5px; position: absolute;\"> </div>\n",
       "            <div style=\"margin-left: 48px;\">\n",
       "            <details>\n",
       "                <summary>\n",
       "                    <h4 style=\"margin-bottom: 0px; display: inline;\">Worker: 0</h4>\n",
       "                </summary>\n",
       "                <table style=\"width: 100%; text-align: left;\">\n",
       "                    <tr>\n",
       "                        <td style=\"text-align: left;\">\n",
       "                            <strong>Comm: </strong> tcp://127.0.0.1:54802\n",
       "                        </td>\n",
       "                        <td style=\"text-align: left;\">\n",
       "                            <strong>Total threads: </strong> 3\n",
       "                        </td>\n",
       "                    </tr>\n",
       "                    <tr>\n",
       "                        <td style=\"text-align: left;\">\n",
       "                            <strong>Dashboard: </strong> <a href=\"http://127.0.0.1:54807/status\" target=\"_blank\">http://127.0.0.1:54807/status</a>\n",
       "                        </td>\n",
       "                        <td style=\"text-align: left;\">\n",
       "                            <strong>Memory: </strong> 16.00 GiB\n",
       "                        </td>\n",
       "                    </tr>\n",
       "                    <tr>\n",
       "                        <td style=\"text-align: left;\">\n",
       "                            <strong>Nanny: </strong> tcp://127.0.0.1:54794\n",
       "                        </td>\n",
       "                        <td style=\"text-align: left;\"></td>\n",
       "                    </tr>\n",
       "                    <tr>\n",
       "                        <td colspan=\"2\" style=\"text-align: left;\">\n",
       "                            <strong>Local directory: </strong> /var/folders/w6/twsr_k_17m3fbmpgvpnp_v700000gn/T/dask-worker-space/worker-ukfroe3n\n",
       "                        </td>\n",
       "                    </tr>\n",
       "\n",
       "                    \n",
       "\n",
       "                    \n",
       "\n",
       "                </table>\n",
       "            </details>\n",
       "            </div>\n",
       "        </div>\n",
       "        \n",
       "        <div style=\"margin-bottom: 20px;\">\n",
       "            <div style=\"width: 24px; height: 24px; background-color: #DBF5FF; border: 3px solid #4CC9FF; border-radius: 5px; position: absolute;\"> </div>\n",
       "            <div style=\"margin-left: 48px;\">\n",
       "            <details>\n",
       "                <summary>\n",
       "                    <h4 style=\"margin-bottom: 0px; display: inline;\">Worker: 1</h4>\n",
       "                </summary>\n",
       "                <table style=\"width: 100%; text-align: left;\">\n",
       "                    <tr>\n",
       "                        <td style=\"text-align: left;\">\n",
       "                            <strong>Comm: </strong> tcp://127.0.0.1:54803\n",
       "                        </td>\n",
       "                        <td style=\"text-align: left;\">\n",
       "                            <strong>Total threads: </strong> 3\n",
       "                        </td>\n",
       "                    </tr>\n",
       "                    <tr>\n",
       "                        <td style=\"text-align: left;\">\n",
       "                            <strong>Dashboard: </strong> <a href=\"http://127.0.0.1:54806/status\" target=\"_blank\">http://127.0.0.1:54806/status</a>\n",
       "                        </td>\n",
       "                        <td style=\"text-align: left;\">\n",
       "                            <strong>Memory: </strong> 16.00 GiB\n",
       "                        </td>\n",
       "                    </tr>\n",
       "                    <tr>\n",
       "                        <td style=\"text-align: left;\">\n",
       "                            <strong>Nanny: </strong> tcp://127.0.0.1:54795\n",
       "                        </td>\n",
       "                        <td style=\"text-align: left;\"></td>\n",
       "                    </tr>\n",
       "                    <tr>\n",
       "                        <td colspan=\"2\" style=\"text-align: left;\">\n",
       "                            <strong>Local directory: </strong> /var/folders/w6/twsr_k_17m3fbmpgvpnp_v700000gn/T/dask-worker-space/worker-cd5jxsig\n",
       "                        </td>\n",
       "                    </tr>\n",
       "\n",
       "                    \n",
       "\n",
       "                    \n",
       "\n",
       "                </table>\n",
       "            </details>\n",
       "            </div>\n",
       "        </div>\n",
       "        \n",
       "        <div style=\"margin-bottom: 20px;\">\n",
       "            <div style=\"width: 24px; height: 24px; background-color: #DBF5FF; border: 3px solid #4CC9FF; border-radius: 5px; position: absolute;\"> </div>\n",
       "            <div style=\"margin-left: 48px;\">\n",
       "            <details>\n",
       "                <summary>\n",
       "                    <h4 style=\"margin-bottom: 0px; display: inline;\">Worker: 2</h4>\n",
       "                </summary>\n",
       "                <table style=\"width: 100%; text-align: left;\">\n",
       "                    <tr>\n",
       "                        <td style=\"text-align: left;\">\n",
       "                            <strong>Comm: </strong> tcp://127.0.0.1:54804\n",
       "                        </td>\n",
       "                        <td style=\"text-align: left;\">\n",
       "                            <strong>Total threads: </strong> 3\n",
       "                        </td>\n",
       "                    </tr>\n",
       "                    <tr>\n",
       "                        <td style=\"text-align: left;\">\n",
       "                            <strong>Dashboard: </strong> <a href=\"http://127.0.0.1:54808/status\" target=\"_blank\">http://127.0.0.1:54808/status</a>\n",
       "                        </td>\n",
       "                        <td style=\"text-align: left;\">\n",
       "                            <strong>Memory: </strong> 16.00 GiB\n",
       "                        </td>\n",
       "                    </tr>\n",
       "                    <tr>\n",
       "                        <td style=\"text-align: left;\">\n",
       "                            <strong>Nanny: </strong> tcp://127.0.0.1:54796\n",
       "                        </td>\n",
       "                        <td style=\"text-align: left;\"></td>\n",
       "                    </tr>\n",
       "                    <tr>\n",
       "                        <td colspan=\"2\" style=\"text-align: left;\">\n",
       "                            <strong>Local directory: </strong> /var/folders/w6/twsr_k_17m3fbmpgvpnp_v700000gn/T/dask-worker-space/worker-d6fw2_95\n",
       "                        </td>\n",
       "                    </tr>\n",
       "\n",
       "                    \n",
       "\n",
       "                    \n",
       "\n",
       "                </table>\n",
       "            </details>\n",
       "            </div>\n",
       "        </div>\n",
       "        \n",
       "        <div style=\"margin-bottom: 20px;\">\n",
       "            <div style=\"width: 24px; height: 24px; background-color: #DBF5FF; border: 3px solid #4CC9FF; border-radius: 5px; position: absolute;\"> </div>\n",
       "            <div style=\"margin-left: 48px;\">\n",
       "            <details>\n",
       "                <summary>\n",
       "                    <h4 style=\"margin-bottom: 0px; display: inline;\">Worker: 3</h4>\n",
       "                </summary>\n",
       "                <table style=\"width: 100%; text-align: left;\">\n",
       "                    <tr>\n",
       "                        <td style=\"text-align: left;\">\n",
       "                            <strong>Comm: </strong> tcp://127.0.0.1:54805\n",
       "                        </td>\n",
       "                        <td style=\"text-align: left;\">\n",
       "                            <strong>Total threads: </strong> 3\n",
       "                        </td>\n",
       "                    </tr>\n",
       "                    <tr>\n",
       "                        <td style=\"text-align: left;\">\n",
       "                            <strong>Dashboard: </strong> <a href=\"http://127.0.0.1:54812/status\" target=\"_blank\">http://127.0.0.1:54812/status</a>\n",
       "                        </td>\n",
       "                        <td style=\"text-align: left;\">\n",
       "                            <strong>Memory: </strong> 16.00 GiB\n",
       "                        </td>\n",
       "                    </tr>\n",
       "                    <tr>\n",
       "                        <td style=\"text-align: left;\">\n",
       "                            <strong>Nanny: </strong> tcp://127.0.0.1:54797\n",
       "                        </td>\n",
       "                        <td style=\"text-align: left;\"></td>\n",
       "                    </tr>\n",
       "                    <tr>\n",
       "                        <td colspan=\"2\" style=\"text-align: left;\">\n",
       "                            <strong>Local directory: </strong> /var/folders/w6/twsr_k_17m3fbmpgvpnp_v700000gn/T/dask-worker-space/worker-vjgwh02g\n",
       "                        </td>\n",
       "                    </tr>\n",
       "\n",
       "                    \n",
       "\n",
       "                    \n",
       "\n",
       "                </table>\n",
       "            </details>\n",
       "            </div>\n",
       "        </div>\n",
       "        \n",
       "\n",
       "    </details>\n",
       "</div>\n",
       "\n",
       "        </details>\n",
       "    </div>\n",
       "</div>"
      ],
      "text/plain": [
       "LocalCluster(d5895bf4, 'tcp://127.0.0.1:54791', workers=4, threads=12, memory=64.00 GiB)"
      ]
     },
     "metadata": {},
     "output_type": "display_data"
    }
   ],
   "source": [
    "from dask.distributed import Client, LocalCluster\n",
    "cluster = LocalCluster()\n",
    "cluster"
   ]
  },
  {
   "cell_type": "code",
   "execution_count": 7,
   "id": "0624fda9",
   "metadata": {},
   "outputs": [
    {
     "data": {
      "text/html": [
       "<div>\n",
       "    <div style=\"width: 24px; height: 24px; background-color: #e1e1e1; border: 3px solid #9D9D9D; border-radius: 5px; position: absolute;\"> </div>\n",
       "    <div style=\"margin-left: 48px;\">\n",
       "        <h3 style=\"margin-bottom: 0px;\">Client</h3>\n",
       "        <p style=\"color: #9D9D9D; margin-bottom: 0px;\">Client-0f38fa62-d569-11ed-8f5c-0a3a5daaaad3</p>\n",
       "        <table style=\"width: 100%; text-align: left;\">\n",
       "\n",
       "        <tr>\n",
       "        \n",
       "            <td style=\"text-align: left;\"><strong>Connection method:</strong> Cluster object</td>\n",
       "            <td style=\"text-align: left;\"><strong>Cluster type:</strong> distributed.LocalCluster</td>\n",
       "        \n",
       "        </tr>\n",
       "\n",
       "        \n",
       "            <tr>\n",
       "                <td style=\"text-align: left;\">\n",
       "                    <strong>Dashboard: </strong> <a href=\"http://127.0.0.1:8787/status\" target=\"_blank\">http://127.0.0.1:8787/status</a>\n",
       "                </td>\n",
       "                <td style=\"text-align: left;\"></td>\n",
       "            </tr>\n",
       "        \n",
       "\n",
       "        </table>\n",
       "\n",
       "        \n",
       "\n",
       "        \n",
       "            <details>\n",
       "            <summary style=\"margin-bottom: 20px;\"><h3 style=\"display: inline;\">Cluster Info</h3></summary>\n",
       "            <div class=\"jp-RenderedHTMLCommon jp-RenderedHTML jp-mod-trusted jp-OutputArea-output\">\n",
       "    <div style=\"width: 24px; height: 24px; background-color: #e1e1e1; border: 3px solid #9D9D9D; border-radius: 5px; position: absolute;\">\n",
       "    </div>\n",
       "    <div style=\"margin-left: 48px;\">\n",
       "        <h3 style=\"margin-bottom: 0px; margin-top: 0px;\">LocalCluster</h3>\n",
       "        <p style=\"color: #9D9D9D; margin-bottom: 0px;\">d5895bf4</p>\n",
       "        <table style=\"width: 100%; text-align: left;\">\n",
       "            <tr>\n",
       "                <td style=\"text-align: left;\">\n",
       "                    <strong>Dashboard:</strong> <a href=\"http://127.0.0.1:8787/status\" target=\"_blank\">http://127.0.0.1:8787/status</a>\n",
       "                </td>\n",
       "                <td style=\"text-align: left;\">\n",
       "                    <strong>Workers:</strong> 4\n",
       "                </td>\n",
       "            </tr>\n",
       "            <tr>\n",
       "                <td style=\"text-align: left;\">\n",
       "                    <strong>Total threads:</strong> 12\n",
       "                </td>\n",
       "                <td style=\"text-align: left;\">\n",
       "                    <strong>Total memory:</strong> 64.00 GiB\n",
       "                </td>\n",
       "            </tr>\n",
       "            \n",
       "            <tr>\n",
       "    <td style=\"text-align: left;\"><strong>Status:</strong> running</td>\n",
       "    <td style=\"text-align: left;\"><strong>Using processes:</strong> True</td>\n",
       "</tr>\n",
       "\n",
       "            \n",
       "        </table>\n",
       "\n",
       "        <details>\n",
       "            <summary style=\"margin-bottom: 20px;\">\n",
       "                <h3 style=\"display: inline;\">Scheduler Info</h3>\n",
       "            </summary>\n",
       "\n",
       "            <div style=\"\">\n",
       "    <div>\n",
       "        <div style=\"width: 24px; height: 24px; background-color: #FFF7E5; border: 3px solid #FF6132; border-radius: 5px; position: absolute;\"> </div>\n",
       "        <div style=\"margin-left: 48px;\">\n",
       "            <h3 style=\"margin-bottom: 0px;\">Scheduler</h3>\n",
       "            <p style=\"color: #9D9D9D; margin-bottom: 0px;\">Scheduler-ae87a580-e736-4051-a00d-f6fa7e074bf2</p>\n",
       "            <table style=\"width: 100%; text-align: left;\">\n",
       "                <tr>\n",
       "                    <td style=\"text-align: left;\">\n",
       "                        <strong>Comm:</strong> tcp://127.0.0.1:54791\n",
       "                    </td>\n",
       "                    <td style=\"text-align: left;\">\n",
       "                        <strong>Workers:</strong> 4\n",
       "                    </td>\n",
       "                </tr>\n",
       "                <tr>\n",
       "                    <td style=\"text-align: left;\">\n",
       "                        <strong>Dashboard:</strong> <a href=\"http://127.0.0.1:8787/status\" target=\"_blank\">http://127.0.0.1:8787/status</a>\n",
       "                    </td>\n",
       "                    <td style=\"text-align: left;\">\n",
       "                        <strong>Total threads:</strong> 12\n",
       "                    </td>\n",
       "                </tr>\n",
       "                <tr>\n",
       "                    <td style=\"text-align: left;\">\n",
       "                        <strong>Started:</strong> Just now\n",
       "                    </td>\n",
       "                    <td style=\"text-align: left;\">\n",
       "                        <strong>Total memory:</strong> 64.00 GiB\n",
       "                    </td>\n",
       "                </tr>\n",
       "            </table>\n",
       "        </div>\n",
       "    </div>\n",
       "\n",
       "    <details style=\"margin-left: 48px;\">\n",
       "        <summary style=\"margin-bottom: 20px;\">\n",
       "            <h3 style=\"display: inline;\">Workers</h3>\n",
       "        </summary>\n",
       "\n",
       "        \n",
       "        <div style=\"margin-bottom: 20px;\">\n",
       "            <div style=\"width: 24px; height: 24px; background-color: #DBF5FF; border: 3px solid #4CC9FF; border-radius: 5px; position: absolute;\"> </div>\n",
       "            <div style=\"margin-left: 48px;\">\n",
       "            <details>\n",
       "                <summary>\n",
       "                    <h4 style=\"margin-bottom: 0px; display: inline;\">Worker: 0</h4>\n",
       "                </summary>\n",
       "                <table style=\"width: 100%; text-align: left;\">\n",
       "                    <tr>\n",
       "                        <td style=\"text-align: left;\">\n",
       "                            <strong>Comm: </strong> tcp://127.0.0.1:54802\n",
       "                        </td>\n",
       "                        <td style=\"text-align: left;\">\n",
       "                            <strong>Total threads: </strong> 3\n",
       "                        </td>\n",
       "                    </tr>\n",
       "                    <tr>\n",
       "                        <td style=\"text-align: left;\">\n",
       "                            <strong>Dashboard: </strong> <a href=\"http://127.0.0.1:54807/status\" target=\"_blank\">http://127.0.0.1:54807/status</a>\n",
       "                        </td>\n",
       "                        <td style=\"text-align: left;\">\n",
       "                            <strong>Memory: </strong> 16.00 GiB\n",
       "                        </td>\n",
       "                    </tr>\n",
       "                    <tr>\n",
       "                        <td style=\"text-align: left;\">\n",
       "                            <strong>Nanny: </strong> tcp://127.0.0.1:54794\n",
       "                        </td>\n",
       "                        <td style=\"text-align: left;\"></td>\n",
       "                    </tr>\n",
       "                    <tr>\n",
       "                        <td colspan=\"2\" style=\"text-align: left;\">\n",
       "                            <strong>Local directory: </strong> /var/folders/w6/twsr_k_17m3fbmpgvpnp_v700000gn/T/dask-worker-space/worker-ukfroe3n\n",
       "                        </td>\n",
       "                    </tr>\n",
       "\n",
       "                    \n",
       "\n",
       "                    \n",
       "\n",
       "                </table>\n",
       "            </details>\n",
       "            </div>\n",
       "        </div>\n",
       "        \n",
       "        <div style=\"margin-bottom: 20px;\">\n",
       "            <div style=\"width: 24px; height: 24px; background-color: #DBF5FF; border: 3px solid #4CC9FF; border-radius: 5px; position: absolute;\"> </div>\n",
       "            <div style=\"margin-left: 48px;\">\n",
       "            <details>\n",
       "                <summary>\n",
       "                    <h4 style=\"margin-bottom: 0px; display: inline;\">Worker: 1</h4>\n",
       "                </summary>\n",
       "                <table style=\"width: 100%; text-align: left;\">\n",
       "                    <tr>\n",
       "                        <td style=\"text-align: left;\">\n",
       "                            <strong>Comm: </strong> tcp://127.0.0.1:54803\n",
       "                        </td>\n",
       "                        <td style=\"text-align: left;\">\n",
       "                            <strong>Total threads: </strong> 3\n",
       "                        </td>\n",
       "                    </tr>\n",
       "                    <tr>\n",
       "                        <td style=\"text-align: left;\">\n",
       "                            <strong>Dashboard: </strong> <a href=\"http://127.0.0.1:54806/status\" target=\"_blank\">http://127.0.0.1:54806/status</a>\n",
       "                        </td>\n",
       "                        <td style=\"text-align: left;\">\n",
       "                            <strong>Memory: </strong> 16.00 GiB\n",
       "                        </td>\n",
       "                    </tr>\n",
       "                    <tr>\n",
       "                        <td style=\"text-align: left;\">\n",
       "                            <strong>Nanny: </strong> tcp://127.0.0.1:54795\n",
       "                        </td>\n",
       "                        <td style=\"text-align: left;\"></td>\n",
       "                    </tr>\n",
       "                    <tr>\n",
       "                        <td colspan=\"2\" style=\"text-align: left;\">\n",
       "                            <strong>Local directory: </strong> /var/folders/w6/twsr_k_17m3fbmpgvpnp_v700000gn/T/dask-worker-space/worker-cd5jxsig\n",
       "                        </td>\n",
       "                    </tr>\n",
       "\n",
       "                    \n",
       "\n",
       "                    \n",
       "\n",
       "                </table>\n",
       "            </details>\n",
       "            </div>\n",
       "        </div>\n",
       "        \n",
       "        <div style=\"margin-bottom: 20px;\">\n",
       "            <div style=\"width: 24px; height: 24px; background-color: #DBF5FF; border: 3px solid #4CC9FF; border-radius: 5px; position: absolute;\"> </div>\n",
       "            <div style=\"margin-left: 48px;\">\n",
       "            <details>\n",
       "                <summary>\n",
       "                    <h4 style=\"margin-bottom: 0px; display: inline;\">Worker: 2</h4>\n",
       "                </summary>\n",
       "                <table style=\"width: 100%; text-align: left;\">\n",
       "                    <tr>\n",
       "                        <td style=\"text-align: left;\">\n",
       "                            <strong>Comm: </strong> tcp://127.0.0.1:54804\n",
       "                        </td>\n",
       "                        <td style=\"text-align: left;\">\n",
       "                            <strong>Total threads: </strong> 3\n",
       "                        </td>\n",
       "                    </tr>\n",
       "                    <tr>\n",
       "                        <td style=\"text-align: left;\">\n",
       "                            <strong>Dashboard: </strong> <a href=\"http://127.0.0.1:54808/status\" target=\"_blank\">http://127.0.0.1:54808/status</a>\n",
       "                        </td>\n",
       "                        <td style=\"text-align: left;\">\n",
       "                            <strong>Memory: </strong> 16.00 GiB\n",
       "                        </td>\n",
       "                    </tr>\n",
       "                    <tr>\n",
       "                        <td style=\"text-align: left;\">\n",
       "                            <strong>Nanny: </strong> tcp://127.0.0.1:54796\n",
       "                        </td>\n",
       "                        <td style=\"text-align: left;\"></td>\n",
       "                    </tr>\n",
       "                    <tr>\n",
       "                        <td colspan=\"2\" style=\"text-align: left;\">\n",
       "                            <strong>Local directory: </strong> /var/folders/w6/twsr_k_17m3fbmpgvpnp_v700000gn/T/dask-worker-space/worker-d6fw2_95\n",
       "                        </td>\n",
       "                    </tr>\n",
       "\n",
       "                    \n",
       "\n",
       "                    \n",
       "\n",
       "                </table>\n",
       "            </details>\n",
       "            </div>\n",
       "        </div>\n",
       "        \n",
       "        <div style=\"margin-bottom: 20px;\">\n",
       "            <div style=\"width: 24px; height: 24px; background-color: #DBF5FF; border: 3px solid #4CC9FF; border-radius: 5px; position: absolute;\"> </div>\n",
       "            <div style=\"margin-left: 48px;\">\n",
       "            <details>\n",
       "                <summary>\n",
       "                    <h4 style=\"margin-bottom: 0px; display: inline;\">Worker: 3</h4>\n",
       "                </summary>\n",
       "                <table style=\"width: 100%; text-align: left;\">\n",
       "                    <tr>\n",
       "                        <td style=\"text-align: left;\">\n",
       "                            <strong>Comm: </strong> tcp://127.0.0.1:54805\n",
       "                        </td>\n",
       "                        <td style=\"text-align: left;\">\n",
       "                            <strong>Total threads: </strong> 3\n",
       "                        </td>\n",
       "                    </tr>\n",
       "                    <tr>\n",
       "                        <td style=\"text-align: left;\">\n",
       "                            <strong>Dashboard: </strong> <a href=\"http://127.0.0.1:54812/status\" target=\"_blank\">http://127.0.0.1:54812/status</a>\n",
       "                        </td>\n",
       "                        <td style=\"text-align: left;\">\n",
       "                            <strong>Memory: </strong> 16.00 GiB\n",
       "                        </td>\n",
       "                    </tr>\n",
       "                    <tr>\n",
       "                        <td style=\"text-align: left;\">\n",
       "                            <strong>Nanny: </strong> tcp://127.0.0.1:54797\n",
       "                        </td>\n",
       "                        <td style=\"text-align: left;\"></td>\n",
       "                    </tr>\n",
       "                    <tr>\n",
       "                        <td colspan=\"2\" style=\"text-align: left;\">\n",
       "                            <strong>Local directory: </strong> /var/folders/w6/twsr_k_17m3fbmpgvpnp_v700000gn/T/dask-worker-space/worker-vjgwh02g\n",
       "                        </td>\n",
       "                    </tr>\n",
       "\n",
       "                    \n",
       "\n",
       "                    \n",
       "\n",
       "                </table>\n",
       "            </details>\n",
       "            </div>\n",
       "        </div>\n",
       "        \n",
       "\n",
       "    </details>\n",
       "</div>\n",
       "\n",
       "        </details>\n",
       "    </div>\n",
       "</div>\n",
       "            </details>\n",
       "        \n",
       "\n",
       "    </div>\n",
       "</div>"
      ],
      "text/plain": [
       "<Client: 'tcp://127.0.0.1:54791' processes=4 threads=12, memory=64.00 GiB>"
      ]
     },
     "execution_count": 7,
     "metadata": {},
     "output_type": "execute_result"
    }
   ],
   "source": [
    "client = cluster.get_client()\n",
    "client"
   ]
  },
  {
   "cell_type": "code",
   "execution_count": 8,
   "id": "14ae1b62",
   "metadata": {},
   "outputs": [
    {
     "data": {
      "text/plain": [
       "['s3://coiled-datasets/mrocklin/nyc-taxi-fhv/2019-02*.parquet']"
      ]
     },
     "execution_count": 8,
     "metadata": {},
     "output_type": "execute_result"
    }
   ],
   "source": [
    "file_paths = [\n",
    "    f\"s3://coiled-datasets/mrocklin/nyc-taxi-fhv/{year}-02*.parquet\"\n",
    "    for year in range(2019, 2020)\n",
    "]\n",
    "file_paths"
   ]
  },
  {
   "cell_type": "code",
   "execution_count": 9,
   "id": "d9dc7475",
   "metadata": {},
   "outputs": [],
   "source": [
    "def get_ddf(persist=False):\n",
    "    columns = [\n",
    "        \"hvfhs_license_num\",\n",
    "        \"tips\",\n",
    "        \"base_passenger_fare\",\n",
    "        \"driver_pay\",\n",
    "        \"trip_miles\",\n",
    "        \"trip_time\",\n",
    "        \"shared_request_flag\",\n",
    "    ]\n",
    "    with dask.config.set({\"dataframe.convert_string\": True}):\n",
    "        ddf = dd.read_parquet(file_paths, columns=columns)\n",
    "        return ddf.persist() if persist else ddf"
   ]
  },
  {
   "cell_type": "code",
   "execution_count": 10,
   "id": "4d7b80fc",
   "metadata": {},
   "outputs": [
    {
     "name": "stderr",
     "output_type": "stream",
     "text": [
      "2023-04-07 10:24:34,844 - distributed.nanny - WARNING - Restarting worker\n",
      "2023-04-07 10:24:34,852 - distributed.nanny - WARNING - Restarting worker\n",
      "2023-04-07 10:24:34,854 - distributed.nanny - WARNING - Restarting worker\n",
      "2023-04-07 10:24:34,854 - distributed.nanny - WARNING - Restarting worker\n"
     ]
    }
   ],
   "source": [
    "client.restart();"
   ]
  },
  {
   "cell_type": "code",
   "execution_count": 11,
   "id": "b678247a",
   "metadata": {},
   "outputs": [],
   "source": [
    "ddf = get_ddf()"
   ]
  },
  {
   "cell_type": "code",
   "execution_count": 12,
   "id": "e7fa4861",
   "metadata": {},
   "outputs": [],
   "source": [
    "taxi_companies = {\n",
    "    \"HV0002\": \"Juno\",\n",
    "    \"HV0003\": \"Uber\",\n",
    "    \"HV0004\": \"Via\",\n",
    "    \"HV0005\": \"Lyft\"\n",
    "}"
   ]
  },
  {
   "cell_type": "code",
   "execution_count": 13,
   "id": "e638aedc",
   "metadata": {},
   "outputs": [],
   "source": [
    "ddf[\"company\"] = ddf.hvfhs_license_num.replace(taxi_companies)"
   ]
  },
  {
   "cell_type": "code",
   "execution_count": 14,
   "id": "dffd0004",
   "metadata": {},
   "outputs": [],
   "source": [
    "# add a column to indicate that tip was given\n",
    "ddf[\"tip_flag\"] = ddf.tips > 0"
   ]
  },
  {
   "cell_type": "code",
   "execution_count": 15,
   "id": "68ecb2a1",
   "metadata": {},
   "outputs": [],
   "source": [
    "# what percentage of fare is the tip\n",
    "ddf[\"tip_percentage\"] = ddf.tips / ddf.base_passenger_fare"
   ]
  },
  {
   "cell_type": "code",
   "execution_count": 16,
   "id": "25d921dd",
   "metadata": {},
   "outputs": [],
   "source": [
    "ddf = ddf.persist()"
   ]
  },
  {
   "cell_type": "code",
   "execution_count": 17,
   "id": "d2e01e24",
   "metadata": {},
   "outputs": [
    {
     "data": {
      "text/plain": [
       "hvfhs_license_num      string[pyarrow]\n",
       "tips                           float32\n",
       "base_passenger_fare            float32\n",
       "driver_pay                     float32\n",
       "trip_miles                     float32\n",
       "trip_time                        int32\n",
       "shared_request_flag           category\n",
       "company                string[pyarrow]\n",
       "tip_flag                          bool\n",
       "tip_percentage                 float32\n",
       "dtype: object"
      ]
     },
     "execution_count": 17,
     "metadata": {},
     "output_type": "execute_result"
    }
   ],
   "source": [
    "ddf.dtypes"
   ]
  },
  {
   "cell_type": "markdown",
   "id": "431e0730",
   "metadata": {},
   "source": [
    "Calculate how many passengers tip:"
   ]
  },
  {
   "cell_type": "code",
   "execution_count": 18,
   "id": "4f53f578",
   "metadata": {},
   "outputs": [
    {
     "name": "stdout",
     "output_type": "stream",
     "text": [
      "CPU times: user 1.04 s, sys: 245 ms, total: 1.29 s\n",
      "Wall time: 14 s\n"
     ]
    }
   ],
   "source": [
    "%%time\n",
    "\n",
    "tipped = (ddf.tips != 0).mean().compute()"
   ]
  },
  {
   "cell_type": "code",
   "execution_count": 19,
   "id": "831c496f",
   "metadata": {},
   "outputs": [
    {
     "data": {
      "text/plain": [
       "0.13724178036144266"
      ]
     },
     "execution_count": 19,
     "metadata": {},
     "output_type": "execute_result"
    }
   ],
   "source": [
    "tipped"
   ]
  },
  {
   "cell_type": "code",
   "execution_count": 20,
   "id": "dd766ac6",
   "metadata": {},
   "outputs": [
    {
     "name": "stdout",
     "output_type": "stream",
     "text": [
      "CPU times: user 39.2 ms, sys: 6.57 ms, total: 45.8 ms\n",
      "Wall time: 204 ms\n"
     ]
    }
   ],
   "source": [
    "%%time\n",
    "tipped_counts = ddf.groupby(\"company\").tip_flag.value_counts().compute()"
   ]
  },
  {
   "cell_type": "code",
   "execution_count": 21,
   "id": "e54e487b",
   "metadata": {},
   "outputs": [
    {
     "data": {
      "text/html": [
       "<div>\n",
       "<style scoped>\n",
       "    .dataframe tbody tr th:only-of-type {\n",
       "        vertical-align: middle;\n",
       "    }\n",
       "\n",
       "    .dataframe tbody tr th {\n",
       "        vertical-align: top;\n",
       "    }\n",
       "\n",
       "    .dataframe thead th {\n",
       "        text-align: right;\n",
       "    }\n",
       "</style>\n",
       "<table border=\"1\" class=\"dataframe\">\n",
       "  <thead>\n",
       "    <tr style=\"text-align: right;\">\n",
       "      <th>tip_flag</th>\n",
       "      <th>company</th>\n",
       "      <th>False</th>\n",
       "      <th>True</th>\n",
       "    </tr>\n",
       "  </thead>\n",
       "  <tbody>\n",
       "    <tr>\n",
       "      <th>0</th>\n",
       "      <td>Juno</td>\n",
       "      <td>899689</td>\n",
       "      <td>79538</td>\n",
       "    </tr>\n",
       "    <tr>\n",
       "      <th>1</th>\n",
       "      <td>Lyft</td>\n",
       "      <td>3732492</td>\n",
       "      <td>959003</td>\n",
       "    </tr>\n",
       "    <tr>\n",
       "      <th>2</th>\n",
       "      <td>Uber</td>\n",
       "      <td>11882476</td>\n",
       "      <td>1622410</td>\n",
       "    </tr>\n",
       "    <tr>\n",
       "      <th>3</th>\n",
       "      <td>Via</td>\n",
       "      <td>784301</td>\n",
       "      <td>90851</td>\n",
       "    </tr>\n",
       "  </tbody>\n",
       "</table>\n",
       "</div>"
      ],
      "text/plain": [
       "tip_flag company     False     True\n",
       "0           Juno    899689    79538\n",
       "1           Lyft   3732492   959003\n",
       "2           Uber  11882476  1622410\n",
       "3            Via    784301    90851"
      ]
     },
     "execution_count": 21,
     "metadata": {},
     "output_type": "execute_result"
    }
   ],
   "source": [
    "tipped_counts = tipped_counts.unstack().reset_index()\n",
    "tipped_counts"
   ]
  },
  {
   "cell_type": "code",
   "execution_count": 22,
   "id": "8f75bd72",
   "metadata": {},
   "outputs": [
    {
     "data": {
      "text/html": [
       "<div>\n",
       "<style scoped>\n",
       "    .dataframe tbody tr th:only-of-type {\n",
       "        vertical-align: middle;\n",
       "    }\n",
       "\n",
       "    .dataframe tbody tr th {\n",
       "        vertical-align: top;\n",
       "    }\n",
       "\n",
       "    .dataframe thead th {\n",
       "        text-align: right;\n",
       "    }\n",
       "</style>\n",
       "<table border=\"1\" class=\"dataframe\">\n",
       "  <thead>\n",
       "    <tr style=\"text-align: right;\">\n",
       "      <th>tip_flag</th>\n",
       "      <th>company</th>\n",
       "      <th>False</th>\n",
       "      <th>True</th>\n",
       "      <th>tipped_ratio</th>\n",
       "    </tr>\n",
       "  </thead>\n",
       "  <tbody>\n",
       "    <tr>\n",
       "      <th>0</th>\n",
       "      <td>Juno</td>\n",
       "      <td>899689</td>\n",
       "      <td>79538</td>\n",
       "      <td>0.081225</td>\n",
       "    </tr>\n",
       "    <tr>\n",
       "      <th>1</th>\n",
       "      <td>Lyft</td>\n",
       "      <td>3732492</td>\n",
       "      <td>959003</td>\n",
       "      <td>0.204413</td>\n",
       "    </tr>\n",
       "    <tr>\n",
       "      <th>2</th>\n",
       "      <td>Uber</td>\n",
       "      <td>11882476</td>\n",
       "      <td>1622410</td>\n",
       "      <td>0.120135</td>\n",
       "    </tr>\n",
       "    <tr>\n",
       "      <th>3</th>\n",
       "      <td>Via</td>\n",
       "      <td>784301</td>\n",
       "      <td>90851</td>\n",
       "      <td>0.103812</td>\n",
       "    </tr>\n",
       "  </tbody>\n",
       "</table>\n",
       "</div>"
      ],
      "text/plain": [
       "tip_flag company     False     True  tipped_ratio\n",
       "0           Juno    899689    79538      0.081225\n",
       "1           Lyft   3732492   959003      0.204413\n",
       "2           Uber  11882476  1622410      0.120135\n",
       "3            Via    784301    90851      0.103812"
      ]
     },
     "execution_count": 22,
     "metadata": {},
     "output_type": "execute_result"
    }
   ],
   "source": [
    "tipped_counts[\"tipped_ratio\"] = tipped_counts[True] / (tipped_counts[False] + tipped_counts[True])\n",
    "tipped_counts"
   ]
  },
  {
   "cell_type": "code",
   "execution_count": 23,
   "id": "fa30c497",
   "metadata": {},
   "outputs": [
    {
     "data": {
      "text/plain": [
       "<Axes: xlabel='company'>"
      ]
     },
     "execution_count": 23,
     "metadata": {},
     "output_type": "execute_result"
    },
    {
     "data": {
      "image/png": "[encoded data removed]",
      "text/plain": [
       "<Figure size 640x480 with 1 Axes>"
      ]
     },
     "metadata": {},
     "output_type": "display_data"
    }
   ],
   "source": [
    "tipped_counts.plot(x=\"company\", y=\"tipped_ratio\", kind=\"bar\")"
   ]
  },
  {
   "cell_type": "code",
   "execution_count": 24,
   "id": "639749be",
   "metadata": {},
   "outputs": [
    {
     "data": {
      "text/html": [
       "<div>\n",
       "<style scoped>\n",
       "    .dataframe tbody tr th:only-of-type {\n",
       "        vertical-align: middle;\n",
       "    }\n",
       "\n",
       "    .dataframe tbody tr th {\n",
       "        vertical-align: top;\n",
       "    }\n",
       "\n",
       "    .dataframe thead tr th {\n",
       "        text-align: left;\n",
       "    }\n",
       "\n",
       "    .dataframe thead tr:last-of-type th {\n",
       "        text-align: right;\n",
       "    }\n",
       "</style>\n",
       "<table border=\"1\" class=\"dataframe\">\n",
       "  <thead>\n",
       "    <tr>\n",
       "      <th></th>\n",
       "      <th colspan=\"2\" halign=\"left\">driver_pay</th>\n",
       "      <th colspan=\"2\" halign=\"left\">tips</th>\n",
       "    </tr>\n",
       "    <tr>\n",
       "      <th></th>\n",
       "      <th>max</th>\n",
       "      <th>mean</th>\n",
       "      <th>max</th>\n",
       "      <th>mean</th>\n",
       "    </tr>\n",
       "    <tr>\n",
       "      <th>company</th>\n",
       "      <th></th>\n",
       "      <th></th>\n",
       "      <th></th>\n",
       "      <th></th>\n",
       "    </tr>\n",
       "  </thead>\n",
       "  <tbody>\n",
       "    <tr>\n",
       "      <th>Uber</th>\n",
       "      <td>857.719971</td>\n",
       "      <td>15.500295</td>\n",
       "      <td>100.000000</td>\n",
       "      <td>0.414673</td>\n",
       "    </tr>\n",
       "    <tr>\n",
       "      <th>Lyft</th>\n",
       "      <td>561.429993</td>\n",
       "      <td>11.724117</td>\n",
       "      <td>50.000000</td>\n",
       "      <td>0.798096</td>\n",
       "    </tr>\n",
       "    <tr>\n",
       "      <th>Juno</th>\n",
       "      <td>524.270020</td>\n",
       "      <td>13.792146</td>\n",
       "      <td>400.000000</td>\n",
       "      <td>0.281309</td>\n",
       "    </tr>\n",
       "    <tr>\n",
       "      <th>Via</th>\n",
       "      <td>87.309998</td>\n",
       "      <td>0.392115</td>\n",
       "      <td>99.989998</td>\n",
       "      <td>0.166254</td>\n",
       "    </tr>\n",
       "  </tbody>\n",
       "</table>\n",
       "</div>"
      ],
      "text/plain": [
       "         driver_pay                   tips          \n",
       "                max       mean         max      mean\n",
       "company                                             \n",
       "Uber     857.719971  15.500295  100.000000  0.414673\n",
       "Lyft     561.429993  11.724117   50.000000  0.798096\n",
       "Juno     524.270020  13.792146  400.000000  0.281309\n",
       "Via       87.309998   0.392115   99.989998  0.166254"
      ]
     },
     "execution_count": 24,
     "metadata": {},
     "output_type": "execute_result"
    }
   ],
   "source": [
    "# what's the largest and average pay and tips that driver got, by company\n",
    "ddf.groupby(\"company\").agg(\n",
    "    {\"driver_pay\": [\"max\", \"mean\"], \"tips\": [\"max\", \"mean\"]}\n",
    ").compute()"
   ]
  },
  {
   "cell_type": "code",
   "execution_count": 25,
   "id": "087a5993",
   "metadata": {},
   "outputs": [
    {
     "data": {
      "text/plain": [
       "company\n",
       "Juno    0.211522\n",
       "Lyft    0.232923\n",
       "Uber    0.000000\n",
       "Via     0.189957\n",
       "Name: tip_percentage, dtype: float64"
      ]
     },
     "execution_count": 25,
     "metadata": {},
     "output_type": "execute_result"
    }
   ],
   "source": [
    "# tip percentage mean of trip with tip\n",
    "ddf.loc[lambda x: x.tip_flag].groupby(\"company\").tip_percentage.mean().compute()"
   ]
  },
  {
   "cell_type": "code",
   "execution_count": 26,
   "id": "73697500",
   "metadata": {},
   "outputs": [],
   "source": [
    "df_tiny = (\n",
    "    ddf.loc[lambda x: x.tip_flag][[\"trip_miles\", \"base_passenger_fare\", \"tips\"]]\n",
    "    .sample(frac=0.001)\n",
    "    .compute()\n",
    ")"
   ]
  },
  {
   "cell_type": "code",
   "execution_count": 27,
   "id": "f92ce6e8",
   "metadata": {},
   "outputs": [
    {
     "data": {
      "text/html": [
       "<div>\n",
       "<style scoped>\n",
       "    .dataframe tbody tr th:only-of-type {\n",
       "        vertical-align: middle;\n",
       "    }\n",
       "\n",
       "    .dataframe tbody tr th {\n",
       "        vertical-align: top;\n",
       "    }\n",
       "\n",
       "    .dataframe thead th {\n",
       "        text-align: right;\n",
       "    }\n",
       "</style>\n",
       "<table border=\"1\" class=\"dataframe\">\n",
       "  <thead>\n",
       "    <tr style=\"text-align: right;\">\n",
       "      <th></th>\n",
       "      <th>trip_miles</th>\n",
       "      <th>base_passenger_fare</th>\n",
       "      <th>tips</th>\n",
       "    </tr>\n",
       "    <tr>\n",
       "      <th>request_datetime</th>\n",
       "      <th></th>\n",
       "      <th></th>\n",
       "      <th></th>\n",
       "    </tr>\n",
       "  </thead>\n",
       "  <tbody>\n",
       "    <tr>\n",
       "      <th>2019-02-01 21:51:43</th>\n",
       "      <td>1.62</td>\n",
       "      <td>6.050000</td>\n",
       "      <td>1.00</td>\n",
       "    </tr>\n",
       "    <tr>\n",
       "      <th>2019-02-01 05:23:20</th>\n",
       "      <td>2.10</td>\n",
       "      <td>7.180000</td>\n",
       "      <td>2.00</td>\n",
       "    </tr>\n",
       "    <tr>\n",
       "      <th>2019-02-01 17:32:38</th>\n",
       "      <td>1.31</td>\n",
       "      <td>8.480000</td>\n",
       "      <td>2.00</td>\n",
       "    </tr>\n",
       "    <tr>\n",
       "      <th>2019-02-01 23:07:14</th>\n",
       "      <td>9.41</td>\n",
       "      <td>8.040000</td>\n",
       "      <td>2.00</td>\n",
       "    </tr>\n",
       "    <tr>\n",
       "      <th>2019-02-01 02:46:54</th>\n",
       "      <td>17.15</td>\n",
       "      <td>45.529999</td>\n",
       "      <td>6.14</td>\n",
       "    </tr>\n",
       "    <tr>\n",
       "      <th>...</th>\n",
       "      <td>...</td>\n",
       "      <td>...</td>\n",
       "      <td>...</td>\n",
       "    </tr>\n",
       "    <tr>\n",
       "      <th>2019-02-28 15:34:14</th>\n",
       "      <td>0.97</td>\n",
       "      <td>7.690000</td>\n",
       "      <td>5.00</td>\n",
       "    </tr>\n",
       "    <tr>\n",
       "      <th>2019-02-28 12:05:17</th>\n",
       "      <td>1.68</td>\n",
       "      <td>9.840000</td>\n",
       "      <td>2.00</td>\n",
       "    </tr>\n",
       "    <tr>\n",
       "      <th>2019-02-28 20:37:14</th>\n",
       "      <td>4.10</td>\n",
       "      <td>9.600000</td>\n",
       "      <td>1.00</td>\n",
       "    </tr>\n",
       "    <tr>\n",
       "      <th>2019-02-28 19:56:52</th>\n",
       "      <td>1.97</td>\n",
       "      <td>5.560000</td>\n",
       "      <td>1.00</td>\n",
       "    </tr>\n",
       "    <tr>\n",
       "      <th>2019-02-28 08:04:52</th>\n",
       "      <td>0.87</td>\n",
       "      <td>7.180000</td>\n",
       "      <td>1.00</td>\n",
       "    </tr>\n",
       "  </tbody>\n",
       "</table>\n",
       "<p>2753 rows × 3 columns</p>\n",
       "</div>"
      ],
      "text/plain": [
       "                     trip_miles  base_passenger_fare  tips\n",
       "request_datetime                                          \n",
       "2019-02-01 21:51:43        1.62             6.050000  1.00\n",
       "2019-02-01 05:23:20        2.10             7.180000  2.00\n",
       "2019-02-01 17:32:38        1.31             8.480000  2.00\n",
       "2019-02-01 23:07:14        9.41             8.040000  2.00\n",
       "2019-02-01 02:46:54       17.15            45.529999  6.14\n",
       "...                         ...                  ...   ...\n",
       "2019-02-28 15:34:14        0.97             7.690000  5.00\n",
       "2019-02-28 12:05:17        1.68             9.840000  2.00\n",
       "2019-02-28 20:37:14        4.10             9.600000  1.00\n",
       "2019-02-28 19:56:52        1.97             5.560000  1.00\n",
       "2019-02-28 08:04:52        0.87             7.180000  1.00\n",
       "\n",
       "[2753 rows x 3 columns]"
      ]
     },
     "execution_count": 27,
     "metadata": {},
     "output_type": "execute_result"
    }
   ],
   "source": [
    "df_tiny"
   ]
  },
  {
   "cell_type": "code",
   "execution_count": 28,
   "id": "a4705bc6",
   "metadata": {},
   "outputs": [],
   "source": [
    "tips_filter_vals = df_tiny.tips.quantile([0.25, 0.75]).values"
   ]
  },
  {
   "cell_type": "code",
   "execution_count": 29,
   "id": "4a6a9034",
   "metadata": {},
   "outputs": [],
   "source": [
    "fare_filter_vals = df_tiny.base_passenger_fare.quantile([0.25, 0.75]).values"
   ]
  },
  {
   "cell_type": "code",
   "execution_count": 30,
   "id": "8aa6db04",
   "metadata": {},
   "outputs": [],
   "source": [
    "miles_filter_vals = df_tiny.trip_miles.quantile([0.25, 0.75]).values"
   ]
  },
  {
   "cell_type": "code",
   "execution_count": 31,
   "id": "068292ee",
   "metadata": {},
   "outputs": [
    {
     "data": {
      "text/plain": [
       "array([2., 5.])"
      ]
     },
     "execution_count": 31,
     "metadata": {},
     "output_type": "execute_result"
    }
   ],
   "source": [
    "tips_filter_vals"
   ]
  },
  {
   "cell_type": "code",
   "execution_count": 32,
   "id": "b9ad43fc",
   "metadata": {},
   "outputs": [
    {
     "data": {
      "text/plain": [
       "array([ 7.69000006, 24.42000008])"
      ]
     },
     "execution_count": 32,
     "metadata": {},
     "output_type": "execute_result"
    }
   ],
   "source": [
    "fare_filter_vals"
   ]
  },
  {
   "cell_type": "code",
   "execution_count": 33,
   "id": "03876479",
   "metadata": {},
   "outputs": [
    {
     "data": {
      "text/plain": [
       "array([1.65999997, 6.90999985])"
      ]
     },
     "execution_count": 33,
     "metadata": {},
     "output_type": "execute_result"
    }
   ],
   "source": [
    "miles_filter_vals"
   ]
  },
  {
   "cell_type": "code",
   "execution_count": 37,
   "id": "cca9974a",
   "metadata": {},
   "outputs": [
    {
     "data": {
      "text/plain": [
       "array([0., 0.])"
      ]
     },
     "execution_count": 37,
     "metadata": {},
     "output_type": "execute_result"
    }
   ],
   "source": [
    "# quantile with dask, to compare\n",
    "ddf.tips.quantile([0.25, 0.75], method=\"tdigest\").values.compute()"
   ]
  },
  {
   "cell_type": "code",
   "execution_count": 38,
   "id": "94a4cb75",
   "metadata": {},
   "outputs": [
    {
     "data": {
      "text/plain": [
       "array([ 6.73164496, 19.03099679])"
      ]
     },
     "execution_count": 38,
     "metadata": {},
     "output_type": "execute_result"
    }
   ],
   "source": [
    "# quantile with dask, to compare\n",
    "ddf.base_passenger_fare.quantile([0.25, 0.75], method=\"tdigest\").values.compute()"
   ]
  },
  {
   "cell_type": "code",
   "execution_count": 39,
   "id": "919a0258",
   "metadata": {},
   "outputs": [
    {
     "data": {
      "text/plain": [
       "array([1.74000001, 6.21000004])"
      ]
     },
     "execution_count": 39,
     "metadata": {},
     "output_type": "execute_result"
    }
   ],
   "source": [
    "# quantile with dask, to compare\n",
    "ddf.trip_miles.quantile([0.25, 0.75]).values.compute()"
   ]
  },
  {
   "cell_type": "code",
   "execution_count": 40,
   "id": "fdc6e59d",
   "metadata": {},
   "outputs": [],
   "source": [
    "# filter outliers by tips values\n",
    "tips_condition = ddf.tips.between(*tips_filter_vals)\n",
    "\n",
    "# filter outliers by fare values\n",
    "fares_condition = ddf.base_passenger_fare.between(*fare_filter_vals)\n",
    "\n",
    "# filter outliers by miles values\n",
    "miles_condition = ddf.trip_miles.between(*miles_filter_vals)"
   ]
  },
  {
   "cell_type": "code",
   "execution_count": 41,
   "id": "4de9af70",
   "metadata": {},
   "outputs": [],
   "source": [
    "# filter the dataset to remove outliers, and persist again\n",
    "ddf = ddf.loc[(tips_condition & fares_condition) & miles_condition].persist()"
   ]
  },
  {
   "cell_type": "code",
   "execution_count": 42,
   "id": "daf4e65e",
   "metadata": {},
   "outputs": [
    {
     "data": {
      "text/plain": [
       "company\n",
       "Juno    0.204384\n",
       "Lyft    0.216943\n",
       "Uber    0.216223\n",
       "Via     0.204226\n",
       "Name: tip_percentage, dtype: float64"
      ]
     },
     "execution_count": 42,
     "metadata": {},
     "output_type": "execute_result"
    }
   ],
   "source": [
    "# now compute tip stats again\n",
    "ddf.groupby(\"company\").tip_percentage.mean().compute()"
   ]
  },
  {
   "cell_type": "code",
   "execution_count": 44,
   "id": "059b443b",
   "metadata": {},
   "outputs": [
    {
     "data": {
      "text/html": [
       "<div>\n",
       "<style scoped>\n",
       "    .dataframe tbody tr th:only-of-type {\n",
       "        vertical-align: middle;\n",
       "    }\n",
       "\n",
       "    .dataframe tbody tr th {\n",
       "        vertical-align: top;\n",
       "    }\n",
       "\n",
       "    .dataframe thead th {\n",
       "        text-align: right;\n",
       "    }\n",
       "</style>\n",
       "<table border=\"1\" class=\"dataframe\">\n",
       "  <thead>\n",
       "    <tr style=\"text-align: right;\">\n",
       "      <th></th>\n",
       "      <th>min</th>\n",
       "      <th>max</th>\n",
       "      <th>mean</th>\n",
       "      <th>std</th>\n",
       "    </tr>\n",
       "    <tr>\n",
       "      <th>company</th>\n",
       "      <th></th>\n",
       "      <th></th>\n",
       "      <th></th>\n",
       "      <th></th>\n",
       "    </tr>\n",
       "  </thead>\n",
       "  <tbody>\n",
       "    <tr>\n",
       "      <th>Lyft</th>\n",
       "      <td>0</td>\n",
       "      <td>5460</td>\n",
       "      <td>1008.666940</td>\n",
       "      <td>1079.141007</td>\n",
       "    </tr>\n",
       "    <tr>\n",
       "      <th>Uber</th>\n",
       "      <td>198</td>\n",
       "      <td>9854</td>\n",
       "      <td>1072.669058</td>\n",
       "      <td>1143.668767</td>\n",
       "    </tr>\n",
       "    <tr>\n",
       "      <th>Juno</th>\n",
       "      <td>313</td>\n",
       "      <td>3290</td>\n",
       "      <td>1040.093827</td>\n",
       "      <td>1091.467810</td>\n",
       "    </tr>\n",
       "    <tr>\n",
       "      <th>Via</th>\n",
       "      <td>268</td>\n",
       "      <td>7748</td>\n",
       "      <td>1524.720772</td>\n",
       "      <td>1630.455216</td>\n",
       "    </tr>\n",
       "  </tbody>\n",
       "</table>\n",
       "</div>"
      ],
      "text/plain": [
       "         min   max         mean          std\n",
       "company                                     \n",
       "Lyft       0  5460  1008.666940  1079.141007\n",
       "Uber     198  9854  1072.669058  1143.668767\n",
       "Juno     313  3290  1040.093827  1091.467810\n",
       "Via      268  7748  1524.720772  1630.455216"
      ]
     },
     "execution_count": 44,
     "metadata": {},
     "output_type": "execute_result"
    }
   ],
   "source": [
    "# average trip time by provider\n",
    "ddf.groupby(\"company\").trip_time.agg(\n",
    "    [\"min\", \"max\", \"mean\", \"std\"]\n",
    ").compute()"
   ]
  },
  {
   "cell_type": "code",
   "execution_count": 47,
   "id": "4b598768",
   "metadata": {},
   "outputs": [
    {
     "data": {
      "text/plain": [
       "company\n",
       "Uber    388177\n",
       "Lyft    327238\n",
       "Juno     25110\n",
       "Via       7664\n",
       "Name: count, dtype: int64[pyarrow]"
      ]
     },
     "execution_count": 47,
     "metadata": {},
     "output_type": "execute_result"
    }
   ],
   "source": [
    "# ride count per company\n",
    "ddf.company.value_counts().compute()"
   ]
  },
  {
   "cell_type": "code",
   "execution_count": 48,
   "id": "06a61652",
   "metadata": {},
   "outputs": [],
   "source": [
    "client.close()"
   ]
  },
  {
   "cell_type": "code",
   "execution_count": null,
   "id": "6866497c",
   "metadata": {},
   "outputs": [],
   "source": []
  },
  {
   "cell_type": "code",
   "execution_count": null,
   "id": "5ab456c5",
   "metadata": {},
   "outputs": [],
   "source": []
  },
  {
   "cell_type": "code",
   "execution_count": null,
   "id": "1413b4e3",
   "metadata": {},
   "outputs": [],
   "source": []
  },
  {
   "cell_type": "code",
   "execution_count": null,
   "id": "5fd93201",
   "metadata": {},
   "outputs": [],
   "source": []
  },
  {
   "cell_type": "code",
   "execution_count": 49,
   "id": "eb133c25",
   "metadata": {},
   "outputs": [],
   "source": [
    "cluster.close()"
   ]
  },
  {
   "cell_type": "code",
   "execution_count": null,
   "id": "e2ac2827",
   "metadata": {},
   "outputs": [],
   "source": []
  }
 ],
 "metadata": {
  "kernelspec": {
   "display_name": "Python 3 (ipykernel)",
   "language": "python",
   "name": "python3"
  },
  "language_info": {
   "codemirror_mode": {
    "name": "ipython",
    "version": 3
   },
   "file_extension": ".py",
   "mimetype": "text/x-python",
   "name": "python",
   "nbconvert_exporter": "python",
   "pygments_lexer": "ipython3",
   "version": "3.11.0"
  }
 },
 "nbformat": 4,
 "nbformat_minor": 5
}
