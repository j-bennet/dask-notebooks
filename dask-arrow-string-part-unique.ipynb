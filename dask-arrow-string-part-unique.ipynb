{
 "cells": [
  {
   "cell_type": "markdown",
   "id": "5c99e647",
   "metadata": {},
   "source": [
    "## DataFrame benchmarks with object vs. string[pyarrow] data"
   ]
  },
  {
   "cell_type": "code",
   "execution_count": 3,
   "id": "f58eedf4",
   "metadata": {},
   "outputs": [
    {
     "name": "stdout",
     "output_type": "stream",
     "text": [
      "{\n",
      "  \"Python\": \"3.11.0\",\n",
      "  \"Platform\": \"Darwin\",\n",
      "  \"dask\": \"2023.3.2\",\n",
      "  \"distributed\": \"2023.3.2\",\n",
      "  \"numpy\": \"1.24.2\",\n",
      "  \"pandas\": \"2.0.0rc1\",\n",
      "  \"cloudpickle\": \"2.2.1\",\n",
      "  \"fsspec\": \"2023.3.0\",\n",
      "  \"bokeh\": \"2.4.3\",\n",
      "  \"fastparquet\": null,\n",
      "  \"pyarrow\": \"11.0.0\",\n",
      "  \"zarr\": null\n",
      "}"
     ]
    }
   ],
   "source": [
    "import dask\n",
    "dask.utils.show_versions()"
   ]
  },
  {
   "cell_type": "code",
   "execution_count": 4,
   "id": "e6baa3d8",
   "metadata": {},
   "outputs": [],
   "source": [
    "import pandas as pd\n",
    "import numpy as np\n",
    "from dask.sizeof import sizeof\n",
    "from dask.utils import format_bytes\n",
    "from dask import delayed\n",
    "import dask.dataframe as dd\n",
    "import random\n",
    "import string\n",
    "from distributed import wait\n",
    "from distributed import Client\n",
    "from distributed.diagnostics import MemorySampler\n",
    "import coiled\n",
    "import matplotlib\n",
    "import matplotlib.pyplot as plt\n",
    "import os\n",
    "import pyarrow as pa"
   ]
  },
  {
   "cell_type": "code",
   "execution_count": 5,
   "id": "b4fd4247",
   "metadata": {},
   "outputs": [],
   "source": [
    "from dask.distributed import performance_report"
   ]
  },
  {
   "cell_type": "code",
   "execution_count": 6,
   "id": "b1764931",
   "metadata": {},
   "outputs": [
    {
     "data": {
      "application/vnd.jupyter.widget-view+json": {
       "model_id": "2c5f5a1c436342f3821ed3b1b1daa3ba",
       "version_major": 2,
       "version_minor": 0
      },
      "text/html": [
       "<div class=\"jp-RenderedHTMLCommon jp-RenderedHTML jp-mod-trusted jp-OutputArea-output\">\n",
       "    <div style=\"width: 24px; height: 24px; background-color: #e1e1e1; border: 3px solid #9D9D9D; border-radius: 5px; position: absolute;\">\n",
       "    </div>\n",
       "    <div style=\"margin-left: 48px;\">\n",
       "        <h3 style=\"margin-bottom: 0px; margin-top: 0px;\">LocalCluster</h3>\n",
       "        <p style=\"color: #9D9D9D; margin-bottom: 0px;\">42a3ad4d</p>\n",
       "        <table style=\"width: 100%; text-align: left;\">\n",
       "            <tr>\n",
       "                <td style=\"text-align: left;\">\n",
       "                    <strong>Dashboard:</strong> <a href=\"http://127.0.0.1:8787/status\" target=\"_blank\">http://127.0.0.1:8787/status</a>\n",
       "                </td>\n",
       "                <td style=\"text-align: left;\">\n",
       "                    <strong>Workers:</strong> 4\n",
       "                </td>\n",
       "            </tr>\n",
       "            <tr>\n",
       "                <td style=\"text-align: left;\">\n",
       "                    <strong>Total threads:</strong> 12\n",
       "                </td>\n",
       "                <td style=\"text-align: left;\">\n",
       "                    <strong>Total memory:</strong> 64.00 GiB\n",
       "                </td>\n",
       "            </tr>\n",
       "            \n",
       "            <tr>\n",
       "    <td style=\"text-align: left;\"><strong>Status:</strong> running</td>\n",
       "    <td style=\"text-align: left;\"><strong>Using processes:</strong> True</td>\n",
       "</tr>\n",
       "\n",
       "            \n",
       "        </table>\n",
       "\n",
       "        <details>\n",
       "            <summary style=\"margin-bottom: 20px;\">\n",
       "                <h3 style=\"display: inline;\">Scheduler Info</h3>\n",
       "            </summary>\n",
       "\n",
       "            <div style=\"\">\n",
       "    <div>\n",
       "        <div style=\"width: 24px; height: 24px; background-color: #FFF7E5; border: 3px solid #FF6132; border-radius: 5px; position: absolute;\"> </div>\n",
       "        <div style=\"margin-left: 48px;\">\n",
       "            <h3 style=\"margin-bottom: 0px;\">Scheduler</h3>\n",
       "            <p style=\"color: #9D9D9D; margin-bottom: 0px;\">Scheduler-f1c8d403-0bea-416e-b5e4-5a38d284008c</p>\n",
       "            <table style=\"width: 100%; text-align: left;\">\n",
       "                <tr>\n",
       "                    <td style=\"text-align: left;\">\n",
       "                        <strong>Comm:</strong> tcp://127.0.0.1:64549\n",
       "                    </td>\n",
       "                    <td style=\"text-align: left;\">\n",
       "                        <strong>Workers:</strong> 4\n",
       "                    </td>\n",
       "                </tr>\n",
       "                <tr>\n",
       "                    <td style=\"text-align: left;\">\n",
       "                        <strong>Dashboard:</strong> <a href=\"http://127.0.0.1:8787/status\" target=\"_blank\">http://127.0.0.1:8787/status</a>\n",
       "                    </td>\n",
       "                    <td style=\"text-align: left;\">\n",
       "                        <strong>Total threads:</strong> 12\n",
       "                    </td>\n",
       "                </tr>\n",
       "                <tr>\n",
       "                    <td style=\"text-align: left;\">\n",
       "                        <strong>Started:</strong> Just now\n",
       "                    </td>\n",
       "                    <td style=\"text-align: left;\">\n",
       "                        <strong>Total memory:</strong> 64.00 GiB\n",
       "                    </td>\n",
       "                </tr>\n",
       "            </table>\n",
       "        </div>\n",
       "    </div>\n",
       "\n",
       "    <details style=\"margin-left: 48px;\">\n",
       "        <summary style=\"margin-bottom: 20px;\">\n",
       "            <h3 style=\"display: inline;\">Workers</h3>\n",
       "        </summary>\n",
       "\n",
       "        \n",
       "        <div style=\"margin-bottom: 20px;\">\n",
       "            <div style=\"width: 24px; height: 24px; background-color: #DBF5FF; border: 3px solid #4CC9FF; border-radius: 5px; position: absolute;\"> </div>\n",
       "            <div style=\"margin-left: 48px;\">\n",
       "            <details>\n",
       "                <summary>\n",
       "                    <h4 style=\"margin-bottom: 0px; display: inline;\">Worker: 0</h4>\n",
       "                </summary>\n",
       "                <table style=\"width: 100%; text-align: left;\">\n",
       "                    <tr>\n",
       "                        <td style=\"text-align: left;\">\n",
       "                            <strong>Comm: </strong> tcp://127.0.0.1:64560\n",
       "                        </td>\n",
       "                        <td style=\"text-align: left;\">\n",
       "                            <strong>Total threads: </strong> 3\n",
       "                        </td>\n",
       "                    </tr>\n",
       "                    <tr>\n",
       "                        <td style=\"text-align: left;\">\n",
       "                            <strong>Dashboard: </strong> <a href=\"http://127.0.0.1:64566/status\" target=\"_blank\">http://127.0.0.1:64566/status</a>\n",
       "                        </td>\n",
       "                        <td style=\"text-align: left;\">\n",
       "                            <strong>Memory: </strong> 16.00 GiB\n",
       "                        </td>\n",
       "                    </tr>\n",
       "                    <tr>\n",
       "                        <td style=\"text-align: left;\">\n",
       "                            <strong>Nanny: </strong> tcp://127.0.0.1:64552\n",
       "                        </td>\n",
       "                        <td style=\"text-align: left;\"></td>\n",
       "                    </tr>\n",
       "                    <tr>\n",
       "                        <td colspan=\"2\" style=\"text-align: left;\">\n",
       "                            <strong>Local directory: </strong> /var/folders/w6/twsr_k_17m3fbmpgvpnp_v700000gn/T/dask-worker-space/worker-g7yisfak\n",
       "                        </td>\n",
       "                    </tr>\n",
       "\n",
       "                    \n",
       "\n",
       "                    \n",
       "\n",
       "                </table>\n",
       "            </details>\n",
       "            </div>\n",
       "        </div>\n",
       "        \n",
       "        <div style=\"margin-bottom: 20px;\">\n",
       "            <div style=\"width: 24px; height: 24px; background-color: #DBF5FF; border: 3px solid #4CC9FF; border-radius: 5px; position: absolute;\"> </div>\n",
       "            <div style=\"margin-left: 48px;\">\n",
       "            <details>\n",
       "                <summary>\n",
       "                    <h4 style=\"margin-bottom: 0px; display: inline;\">Worker: 1</h4>\n",
       "                </summary>\n",
       "                <table style=\"width: 100%; text-align: left;\">\n",
       "                    <tr>\n",
       "                        <td style=\"text-align: left;\">\n",
       "                            <strong>Comm: </strong> tcp://127.0.0.1:64563\n",
       "                        </td>\n",
       "                        <td style=\"text-align: left;\">\n",
       "                            <strong>Total threads: </strong> 3\n",
       "                        </td>\n",
       "                    </tr>\n",
       "                    <tr>\n",
       "                        <td style=\"text-align: left;\">\n",
       "                            <strong>Dashboard: </strong> <a href=\"http://127.0.0.1:64570/status\" target=\"_blank\">http://127.0.0.1:64570/status</a>\n",
       "                        </td>\n",
       "                        <td style=\"text-align: left;\">\n",
       "                            <strong>Memory: </strong> 16.00 GiB\n",
       "                        </td>\n",
       "                    </tr>\n",
       "                    <tr>\n",
       "                        <td style=\"text-align: left;\">\n",
       "                            <strong>Nanny: </strong> tcp://127.0.0.1:64553\n",
       "                        </td>\n",
       "                        <td style=\"text-align: left;\"></td>\n",
       "                    </tr>\n",
       "                    <tr>\n",
       "                        <td colspan=\"2\" style=\"text-align: left;\">\n",
       "                            <strong>Local directory: </strong> /var/folders/w6/twsr_k_17m3fbmpgvpnp_v700000gn/T/dask-worker-space/worker-si2ggejb\n",
       "                        </td>\n",
       "                    </tr>\n",
       "\n",
       "                    \n",
       "\n",
       "                    \n",
       "\n",
       "                </table>\n",
       "            </details>\n",
       "            </div>\n",
       "        </div>\n",
       "        \n",
       "        <div style=\"margin-bottom: 20px;\">\n",
       "            <div style=\"width: 24px; height: 24px; background-color: #DBF5FF; border: 3px solid #4CC9FF; border-radius: 5px; position: absolute;\"> </div>\n",
       "            <div style=\"margin-left: 48px;\">\n",
       "            <details>\n",
       "                <summary>\n",
       "                    <h4 style=\"margin-bottom: 0px; display: inline;\">Worker: 2</h4>\n",
       "                </summary>\n",
       "                <table style=\"width: 100%; text-align: left;\">\n",
       "                    <tr>\n",
       "                        <td style=\"text-align: left;\">\n",
       "                            <strong>Comm: </strong> tcp://127.0.0.1:64561\n",
       "                        </td>\n",
       "                        <td style=\"text-align: left;\">\n",
       "                            <strong>Total threads: </strong> 3\n",
       "                        </td>\n",
       "                    </tr>\n",
       "                    <tr>\n",
       "                        <td style=\"text-align: left;\">\n",
       "                            <strong>Dashboard: </strong> <a href=\"http://127.0.0.1:64565/status\" target=\"_blank\">http://127.0.0.1:64565/status</a>\n",
       "                        </td>\n",
       "                        <td style=\"text-align: left;\">\n",
       "                            <strong>Memory: </strong> 16.00 GiB\n",
       "                        </td>\n",
       "                    </tr>\n",
       "                    <tr>\n",
       "                        <td style=\"text-align: left;\">\n",
       "                            <strong>Nanny: </strong> tcp://127.0.0.1:64554\n",
       "                        </td>\n",
       "                        <td style=\"text-align: left;\"></td>\n",
       "                    </tr>\n",
       "                    <tr>\n",
       "                        <td colspan=\"2\" style=\"text-align: left;\">\n",
       "                            <strong>Local directory: </strong> /var/folders/w6/twsr_k_17m3fbmpgvpnp_v700000gn/T/dask-worker-space/worker-c4kjbown\n",
       "                        </td>\n",
       "                    </tr>\n",
       "\n",
       "                    \n",
       "\n",
       "                    \n",
       "\n",
       "                </table>\n",
       "            </details>\n",
       "            </div>\n",
       "        </div>\n",
       "        \n",
       "        <div style=\"margin-bottom: 20px;\">\n",
       "            <div style=\"width: 24px; height: 24px; background-color: #DBF5FF; border: 3px solid #4CC9FF; border-radius: 5px; position: absolute;\"> </div>\n",
       "            <div style=\"margin-left: 48px;\">\n",
       "            <details>\n",
       "                <summary>\n",
       "                    <h4 style=\"margin-bottom: 0px; display: inline;\">Worker: 3</h4>\n",
       "                </summary>\n",
       "                <table style=\"width: 100%; text-align: left;\">\n",
       "                    <tr>\n",
       "                        <td style=\"text-align: left;\">\n",
       "                            <strong>Comm: </strong> tcp://127.0.0.1:64562\n",
       "                        </td>\n",
       "                        <td style=\"text-align: left;\">\n",
       "                            <strong>Total threads: </strong> 3\n",
       "                        </td>\n",
       "                    </tr>\n",
       "                    <tr>\n",
       "                        <td style=\"text-align: left;\">\n",
       "                            <strong>Dashboard: </strong> <a href=\"http://127.0.0.1:64564/status\" target=\"_blank\">http://127.0.0.1:64564/status</a>\n",
       "                        </td>\n",
       "                        <td style=\"text-align: left;\">\n",
       "                            <strong>Memory: </strong> 16.00 GiB\n",
       "                        </td>\n",
       "                    </tr>\n",
       "                    <tr>\n",
       "                        <td style=\"text-align: left;\">\n",
       "                            <strong>Nanny: </strong> tcp://127.0.0.1:64555\n",
       "                        </td>\n",
       "                        <td style=\"text-align: left;\"></td>\n",
       "                    </tr>\n",
       "                    <tr>\n",
       "                        <td colspan=\"2\" style=\"text-align: left;\">\n",
       "                            <strong>Local directory: </strong> /var/folders/w6/twsr_k_17m3fbmpgvpnp_v700000gn/T/dask-worker-space/worker-4ut0gsmm\n",
       "                        </td>\n",
       "                    </tr>\n",
       "\n",
       "                    \n",
       "\n",
       "                    \n",
       "\n",
       "                </table>\n",
       "            </details>\n",
       "            </div>\n",
       "        </div>\n",
       "        \n",
       "\n",
       "    </details>\n",
       "</div>\n",
       "\n",
       "        </details>\n",
       "    </div>\n",
       "</div>"
      ],
      "text/plain": [
       "LocalCluster(42a3ad4d, 'tcp://127.0.0.1:64549', workers=4, threads=12, memory=64.00 GiB)"
      ]
     },
     "metadata": {},
     "output_type": "display_data"
    }
   ],
   "source": [
    "from dask.distributed import LocalCluster\n",
    "cluster = LocalCluster()\n",
    "cluster"
   ]
  },
  {
   "cell_type": "code",
   "execution_count": 7,
   "id": "0624fda9",
   "metadata": {},
   "outputs": [
    {
     "data": {
      "text/html": [
       "<div>\n",
       "    <div style=\"width: 24px; height: 24px; background-color: #e1e1e1; border: 3px solid #9D9D9D; border-radius: 5px; position: absolute;\"> </div>\n",
       "    <div style=\"margin-left: 48px;\">\n",
       "        <h3 style=\"margin-bottom: 0px;\">Client</h3>\n",
       "        <p style=\"color: #9D9D9D; margin-bottom: 0px;\">Client-1f106624-d036-11ed-a857-0a3a5daaaad3</p>\n",
       "        <table style=\"width: 100%; text-align: left;\">\n",
       "\n",
       "        <tr>\n",
       "        \n",
       "            <td style=\"text-align: left;\"><strong>Connection method:</strong> Cluster object</td>\n",
       "            <td style=\"text-align: left;\"><strong>Cluster type:</strong> distributed.LocalCluster</td>\n",
       "        \n",
       "        </tr>\n",
       "\n",
       "        \n",
       "            <tr>\n",
       "                <td style=\"text-align: left;\">\n",
       "                    <strong>Dashboard: </strong> <a href=\"http://127.0.0.1:8787/status\" target=\"_blank\">http://127.0.0.1:8787/status</a>\n",
       "                </td>\n",
       "                <td style=\"text-align: left;\"></td>\n",
       "            </tr>\n",
       "        \n",
       "\n",
       "        </table>\n",
       "\n",
       "        \n",
       "\n",
       "        \n",
       "            <details>\n",
       "            <summary style=\"margin-bottom: 20px;\"><h3 style=\"display: inline;\">Cluster Info</h3></summary>\n",
       "            <div class=\"jp-RenderedHTMLCommon jp-RenderedHTML jp-mod-trusted jp-OutputArea-output\">\n",
       "    <div style=\"width: 24px; height: 24px; background-color: #e1e1e1; border: 3px solid #9D9D9D; border-radius: 5px; position: absolute;\">\n",
       "    </div>\n",
       "    <div style=\"margin-left: 48px;\">\n",
       "        <h3 style=\"margin-bottom: 0px; margin-top: 0px;\">LocalCluster</h3>\n",
       "        <p style=\"color: #9D9D9D; margin-bottom: 0px;\">42a3ad4d</p>\n",
       "        <table style=\"width: 100%; text-align: left;\">\n",
       "            <tr>\n",
       "                <td style=\"text-align: left;\">\n",
       "                    <strong>Dashboard:</strong> <a href=\"http://127.0.0.1:8787/status\" target=\"_blank\">http://127.0.0.1:8787/status</a>\n",
       "                </td>\n",
       "                <td style=\"text-align: left;\">\n",
       "                    <strong>Workers:</strong> 4\n",
       "                </td>\n",
       "            </tr>\n",
       "            <tr>\n",
       "                <td style=\"text-align: left;\">\n",
       "                    <strong>Total threads:</strong> 12\n",
       "                </td>\n",
       "                <td style=\"text-align: left;\">\n",
       "                    <strong>Total memory:</strong> 64.00 GiB\n",
       "                </td>\n",
       "            </tr>\n",
       "            \n",
       "            <tr>\n",
       "    <td style=\"text-align: left;\"><strong>Status:</strong> running</td>\n",
       "    <td style=\"text-align: left;\"><strong>Using processes:</strong> True</td>\n",
       "</tr>\n",
       "\n",
       "            \n",
       "        </table>\n",
       "\n",
       "        <details>\n",
       "            <summary style=\"margin-bottom: 20px;\">\n",
       "                <h3 style=\"display: inline;\">Scheduler Info</h3>\n",
       "            </summary>\n",
       "\n",
       "            <div style=\"\">\n",
       "    <div>\n",
       "        <div style=\"width: 24px; height: 24px; background-color: #FFF7E5; border: 3px solid #FF6132; border-radius: 5px; position: absolute;\"> </div>\n",
       "        <div style=\"margin-left: 48px;\">\n",
       "            <h3 style=\"margin-bottom: 0px;\">Scheduler</h3>\n",
       "            <p style=\"color: #9D9D9D; margin-bottom: 0px;\">Scheduler-f1c8d403-0bea-416e-b5e4-5a38d284008c</p>\n",
       "            <table style=\"width: 100%; text-align: left;\">\n",
       "                <tr>\n",
       "                    <td style=\"text-align: left;\">\n",
       "                        <strong>Comm:</strong> tcp://127.0.0.1:64549\n",
       "                    </td>\n",
       "                    <td style=\"text-align: left;\">\n",
       "                        <strong>Workers:</strong> 4\n",
       "                    </td>\n",
       "                </tr>\n",
       "                <tr>\n",
       "                    <td style=\"text-align: left;\">\n",
       "                        <strong>Dashboard:</strong> <a href=\"http://127.0.0.1:8787/status\" target=\"_blank\">http://127.0.0.1:8787/status</a>\n",
       "                    </td>\n",
       "                    <td style=\"text-align: left;\">\n",
       "                        <strong>Total threads:</strong> 12\n",
       "                    </td>\n",
       "                </tr>\n",
       "                <tr>\n",
       "                    <td style=\"text-align: left;\">\n",
       "                        <strong>Started:</strong> Just now\n",
       "                    </td>\n",
       "                    <td style=\"text-align: left;\">\n",
       "                        <strong>Total memory:</strong> 64.00 GiB\n",
       "                    </td>\n",
       "                </tr>\n",
       "            </table>\n",
       "        </div>\n",
       "    </div>\n",
       "\n",
       "    <details style=\"margin-left: 48px;\">\n",
       "        <summary style=\"margin-bottom: 20px;\">\n",
       "            <h3 style=\"display: inline;\">Workers</h3>\n",
       "        </summary>\n",
       "\n",
       "        \n",
       "        <div style=\"margin-bottom: 20px;\">\n",
       "            <div style=\"width: 24px; height: 24px; background-color: #DBF5FF; border: 3px solid #4CC9FF; border-radius: 5px; position: absolute;\"> </div>\n",
       "            <div style=\"margin-left: 48px;\">\n",
       "            <details>\n",
       "                <summary>\n",
       "                    <h4 style=\"margin-bottom: 0px; display: inline;\">Worker: 0</h4>\n",
       "                </summary>\n",
       "                <table style=\"width: 100%; text-align: left;\">\n",
       "                    <tr>\n",
       "                        <td style=\"text-align: left;\">\n",
       "                            <strong>Comm: </strong> tcp://127.0.0.1:64560\n",
       "                        </td>\n",
       "                        <td style=\"text-align: left;\">\n",
       "                            <strong>Total threads: </strong> 3\n",
       "                        </td>\n",
       "                    </tr>\n",
       "                    <tr>\n",
       "                        <td style=\"text-align: left;\">\n",
       "                            <strong>Dashboard: </strong> <a href=\"http://127.0.0.1:64566/status\" target=\"_blank\">http://127.0.0.1:64566/status</a>\n",
       "                        </td>\n",
       "                        <td style=\"text-align: left;\">\n",
       "                            <strong>Memory: </strong> 16.00 GiB\n",
       "                        </td>\n",
       "                    </tr>\n",
       "                    <tr>\n",
       "                        <td style=\"text-align: left;\">\n",
       "                            <strong>Nanny: </strong> tcp://127.0.0.1:64552\n",
       "                        </td>\n",
       "                        <td style=\"text-align: left;\"></td>\n",
       "                    </tr>\n",
       "                    <tr>\n",
       "                        <td colspan=\"2\" style=\"text-align: left;\">\n",
       "                            <strong>Local directory: </strong> /var/folders/w6/twsr_k_17m3fbmpgvpnp_v700000gn/T/dask-worker-space/worker-g7yisfak\n",
       "                        </td>\n",
       "                    </tr>\n",
       "\n",
       "                    \n",
       "\n",
       "                    \n",
       "\n",
       "                </table>\n",
       "            </details>\n",
       "            </div>\n",
       "        </div>\n",
       "        \n",
       "        <div style=\"margin-bottom: 20px;\">\n",
       "            <div style=\"width: 24px; height: 24px; background-color: #DBF5FF; border: 3px solid #4CC9FF; border-radius: 5px; position: absolute;\"> </div>\n",
       "            <div style=\"margin-left: 48px;\">\n",
       "            <details>\n",
       "                <summary>\n",
       "                    <h4 style=\"margin-bottom: 0px; display: inline;\">Worker: 1</h4>\n",
       "                </summary>\n",
       "                <table style=\"width: 100%; text-align: left;\">\n",
       "                    <tr>\n",
       "                        <td style=\"text-align: left;\">\n",
       "                            <strong>Comm: </strong> tcp://127.0.0.1:64563\n",
       "                        </td>\n",
       "                        <td style=\"text-align: left;\">\n",
       "                            <strong>Total threads: </strong> 3\n",
       "                        </td>\n",
       "                    </tr>\n",
       "                    <tr>\n",
       "                        <td style=\"text-align: left;\">\n",
       "                            <strong>Dashboard: </strong> <a href=\"http://127.0.0.1:64570/status\" target=\"_blank\">http://127.0.0.1:64570/status</a>\n",
       "                        </td>\n",
       "                        <td style=\"text-align: left;\">\n",
       "                            <strong>Memory: </strong> 16.00 GiB\n",
       "                        </td>\n",
       "                    </tr>\n",
       "                    <tr>\n",
       "                        <td style=\"text-align: left;\">\n",
       "                            <strong>Nanny: </strong> tcp://127.0.0.1:64553\n",
       "                        </td>\n",
       "                        <td style=\"text-align: left;\"></td>\n",
       "                    </tr>\n",
       "                    <tr>\n",
       "                        <td colspan=\"2\" style=\"text-align: left;\">\n",
       "                            <strong>Local directory: </strong> /var/folders/w6/twsr_k_17m3fbmpgvpnp_v700000gn/T/dask-worker-space/worker-si2ggejb\n",
       "                        </td>\n",
       "                    </tr>\n",
       "\n",
       "                    \n",
       "\n",
       "                    \n",
       "\n",
       "                </table>\n",
       "            </details>\n",
       "            </div>\n",
       "        </div>\n",
       "        \n",
       "        <div style=\"margin-bottom: 20px;\">\n",
       "            <div style=\"width: 24px; height: 24px; background-color: #DBF5FF; border: 3px solid #4CC9FF; border-radius: 5px; position: absolute;\"> </div>\n",
       "            <div style=\"margin-left: 48px;\">\n",
       "            <details>\n",
       "                <summary>\n",
       "                    <h4 style=\"margin-bottom: 0px; display: inline;\">Worker: 2</h4>\n",
       "                </summary>\n",
       "                <table style=\"width: 100%; text-align: left;\">\n",
       "                    <tr>\n",
       "                        <td style=\"text-align: left;\">\n",
       "                            <strong>Comm: </strong> tcp://127.0.0.1:64561\n",
       "                        </td>\n",
       "                        <td style=\"text-align: left;\">\n",
       "                            <strong>Total threads: </strong> 3\n",
       "                        </td>\n",
       "                    </tr>\n",
       "                    <tr>\n",
       "                        <td style=\"text-align: left;\">\n",
       "                            <strong>Dashboard: </strong> <a href=\"http://127.0.0.1:64565/status\" target=\"_blank\">http://127.0.0.1:64565/status</a>\n",
       "                        </td>\n",
       "                        <td style=\"text-align: left;\">\n",
       "                            <strong>Memory: </strong> 16.00 GiB\n",
       "                        </td>\n",
       "                    </tr>\n",
       "                    <tr>\n",
       "                        <td style=\"text-align: left;\">\n",
       "                            <strong>Nanny: </strong> tcp://127.0.0.1:64554\n",
       "                        </td>\n",
       "                        <td style=\"text-align: left;\"></td>\n",
       "                    </tr>\n",
       "                    <tr>\n",
       "                        <td colspan=\"2\" style=\"text-align: left;\">\n",
       "                            <strong>Local directory: </strong> /var/folders/w6/twsr_k_17m3fbmpgvpnp_v700000gn/T/dask-worker-space/worker-c4kjbown\n",
       "                        </td>\n",
       "                    </tr>\n",
       "\n",
       "                    \n",
       "\n",
       "                    \n",
       "\n",
       "                </table>\n",
       "            </details>\n",
       "            </div>\n",
       "        </div>\n",
       "        \n",
       "        <div style=\"margin-bottom: 20px;\">\n",
       "            <div style=\"width: 24px; height: 24px; background-color: #DBF5FF; border: 3px solid #4CC9FF; border-radius: 5px; position: absolute;\"> </div>\n",
       "            <div style=\"margin-left: 48px;\">\n",
       "            <details>\n",
       "                <summary>\n",
       "                    <h4 style=\"margin-bottom: 0px; display: inline;\">Worker: 3</h4>\n",
       "                </summary>\n",
       "                <table style=\"width: 100%; text-align: left;\">\n",
       "                    <tr>\n",
       "                        <td style=\"text-align: left;\">\n",
       "                            <strong>Comm: </strong> tcp://127.0.0.1:64562\n",
       "                        </td>\n",
       "                        <td style=\"text-align: left;\">\n",
       "                            <strong>Total threads: </strong> 3\n",
       "                        </td>\n",
       "                    </tr>\n",
       "                    <tr>\n",
       "                        <td style=\"text-align: left;\">\n",
       "                            <strong>Dashboard: </strong> <a href=\"http://127.0.0.1:64564/status\" target=\"_blank\">http://127.0.0.1:64564/status</a>\n",
       "                        </td>\n",
       "                        <td style=\"text-align: left;\">\n",
       "                            <strong>Memory: </strong> 16.00 GiB\n",
       "                        </td>\n",
       "                    </tr>\n",
       "                    <tr>\n",
       "                        <td style=\"text-align: left;\">\n",
       "                            <strong>Nanny: </strong> tcp://127.0.0.1:64555\n",
       "                        </td>\n",
       "                        <td style=\"text-align: left;\"></td>\n",
       "                    </tr>\n",
       "                    <tr>\n",
       "                        <td colspan=\"2\" style=\"text-align: left;\">\n",
       "                            <strong>Local directory: </strong> /var/folders/w6/twsr_k_17m3fbmpgvpnp_v700000gn/T/dask-worker-space/worker-4ut0gsmm\n",
       "                        </td>\n",
       "                    </tr>\n",
       "\n",
       "                    \n",
       "\n",
       "                    \n",
       "\n",
       "                </table>\n",
       "            </details>\n",
       "            </div>\n",
       "        </div>\n",
       "        \n",
       "\n",
       "    </details>\n",
       "</div>\n",
       "\n",
       "        </details>\n",
       "    </div>\n",
       "</div>\n",
       "            </details>\n",
       "        \n",
       "\n",
       "    </div>\n",
       "</div>"
      ],
      "text/plain": [
       "<Client: 'tcp://127.0.0.1:64549' processes=4 threads=12, memory=64.00 GiB>"
      ]
     },
     "execution_count": 7,
     "metadata": {},
     "output_type": "execute_result"
    }
   ],
   "source": [
    "client = cluster.get_client()\n",
    "client"
   ]
  },
  {
   "cell_type": "code",
   "execution_count": 13,
   "id": "ccb2598c",
   "metadata": {},
   "outputs": [],
   "source": [
    "# partitions in the generated dataframe\n",
    "npartitions = 50"
   ]
  },
  {
   "cell_type": "code",
   "execution_count": 14,
   "id": "658e736a",
   "metadata": {},
   "outputs": [],
   "source": [
    "num_records = 500_000\n",
    "unique_records = 50_000\n",
    "\n",
    "def random_string():\n",
    "    return \"\".join(random.choices(string.printable, k=random.randint(10, 100)))\n",
    "\n",
    "\n",
    "def random_strings(n, n_unique=None):\n",
    "    if n_unique is None:\n",
    "        n_unique = n\n",
    "    if n == n_unique:\n",
    "        return (random_string() for _ in range(n_unique))\n",
    "    choices = [random_string() for _ in range(n_unique)]\n",
    "    return (random.choice(choices) for _ in range(n))\n",
    "\n",
    "\n",
    "@delayed(pure=False)\n",
    "def make_partition(dtype):\n",
    "    df = pd.DataFrame({\n",
    "        \"name\": pd.Series(random_strings(num_records, unique_records), dtype=dtype)\n",
    "    })\n",
    "    return df\n",
    "\n",
    "\n",
    "def create_random_df(file_name, dtype):\n",
    "    if not os.path.exists(file_name):\n",
    "        meta = pd.DataFrame({\"name\": pd.Series([], dtype=dtype)})\n",
    "        ddf = dd.from_delayed(\n",
    "            [make_partition(object) for i in range(npartitions)],\n",
    "            meta=meta\n",
    "        )\n",
    "        ddf.to_parquet(file_name, engine=\"pyarrow\", overwrite=True)\n",
    "    return dd.read_parquet(file_name, engine=\"pyarrow\")\n",
    "    "
   ]
  },
  {
   "cell_type": "code",
   "execution_count": 20,
   "id": "d9dc7475",
   "metadata": {},
   "outputs": [],
   "source": [
    "def get_ddf(persist=False, file_name=\"data3.parquet\"):\n",
    "    ddf = create_random_df(file_name, object)\n",
    "    return ddf.persist() if persist else ddf"
   ]
  },
  {
   "cell_type": "code",
   "execution_count": 27,
   "id": "9722426b",
   "metadata": {},
   "outputs": [],
   "source": [
    "def get_ddf2(persist=False, file_name=\"data4.parquet\"):\n",
    "    with dask.config.set({\"dataframe.convert_string\": True}):\n",
    "        ddf = create_random_df(file_name, \"string[pyarrow]\")\n",
    "        return ddf.persist() if persist else ddf"
   ]
  },
  {
   "cell_type": "markdown",
   "id": "17c24239",
   "metadata": {},
   "source": [
    "## Memory usage"
   ]
  },
  {
   "cell_type": "code",
   "execution_count": 21,
   "id": "9ed4d7aa",
   "metadata": {},
   "outputs": [],
   "source": [
    "from dask.utils import format_bytes"
   ]
  },
  {
   "cell_type": "code",
   "execution_count": 22,
   "id": "067bf1be",
   "metadata": {},
   "outputs": [
    {
     "name": "stderr",
     "output_type": "stream",
     "text": [
      "2023-03-31 19:38:24,507 - distributed.nanny - WARNING - Restarting worker\n",
      "2023-03-31 19:38:24,522 - distributed.nanny - WARNING - Restarting worker\n",
      "2023-03-31 19:38:24,532 - distributed.nanny - WARNING - Restarting worker\n",
      "2023-03-31 19:38:24,533 - distributed.nanny - WARNING - Restarting worker\n"
     ]
    }
   ],
   "source": [
    "client.restart();"
   ]
  },
  {
   "cell_type": "code",
   "execution_count": 23,
   "id": "b678247a",
   "metadata": {},
   "outputs": [],
   "source": [
    "ddf = get_ddf(True)"
   ]
  },
  {
   "cell_type": "code",
   "execution_count": 11,
   "id": "47688e17",
   "metadata": {},
   "outputs": [],
   "source": [
    "# ddf.size.compute()"
   ]
  },
  {
   "cell_type": "code",
   "execution_count": 24,
   "id": "5f0ba8c9",
   "metadata": {},
   "outputs": [
    {
     "data": {
      "text/plain": [
       "name    object\n",
       "dtype: object"
      ]
     },
     "execution_count": 24,
     "metadata": {},
     "output_type": "execute_result"
    }
   ],
   "source": [
    "ddf.dtypes"
   ]
  },
  {
   "cell_type": "code",
   "execution_count": 25,
   "id": "2e899600",
   "metadata": {},
   "outputs": [
    {
     "data": {
      "text/html": [
       "<div>\n",
       "<style scoped>\n",
       "    .dataframe tbody tr th:only-of-type {\n",
       "        vertical-align: middle;\n",
       "    }\n",
       "\n",
       "    .dataframe tbody tr th {\n",
       "        vertical-align: top;\n",
       "    }\n",
       "\n",
       "    .dataframe thead th {\n",
       "        text-align: right;\n",
       "    }\n",
       "</style>\n",
       "<table border=\"1\" class=\"dataframe\">\n",
       "  <thead>\n",
       "    <tr style=\"text-align: right;\">\n",
       "      <th></th>\n",
       "      <th>name</th>\n",
       "    </tr>\n",
       "  </thead>\n",
       "  <tbody>\n",
       "    <tr>\n",
       "      <th>0</th>\n",
       "      <td>l5 o\\Wy(q\\nMk9(h;!lm-:FS*Ct(#?&amp;CY9&gt;cpVW.</td>\n",
       "    </tr>\n",
       "    <tr>\n",
       "      <th>1</th>\n",
       "      <td>iP?u\\ne5-j'}hHot8y\\i#gI 'Ej</td>\n",
       "    </tr>\n",
       "    <tr>\n",
       "      <th>2</th>\n",
       "      <td>8m;f\\tDL_@Tj?~|D_Sq&gt;6?'OSNF6S[8\\zWM\\rV%Vy[ `i!...</td>\n",
       "    </tr>\n",
       "    <tr>\n",
       "      <th>3</th>\n",
       "      <td>wxJ-vhE*o&gt;:\\X'fC&amp;*V`]5,q+!aa@r(2Qs3J.J1ci\\n/K'...</td>\n",
       "    </tr>\n",
       "    <tr>\n",
       "      <th>4</th>\n",
       "      <td>TeG\\]2fImV*b='(}k/MuMscKBw'!qCd?m{fnz`lkk-TLA=...</td>\n",
       "    </tr>\n",
       "    <tr>\n",
       "      <th>5</th>\n",
       "      <td>zyWCZR\\Dnn7Np!b]Uo9]`'\\rE!|k\u000b",
       "&lt;EAZ{4k-_CTYJy5tm...</td>\n",
       "    </tr>\n",
       "    <tr>\n",
       "      <th>6</th>\n",
       "      <td>eGz])Nu\\rLt 2uklbbe}k.~V\\na.5{@C\\na]Q[!,=~&amp;D3:...</td>\n",
       "    </tr>\n",
       "    <tr>\n",
       "      <th>7</th>\n",
       "      <td>m7%q,%\\n4HX:'Guo~9Fx\"Y,|WD$#x~Loc$TvQMu-`M.Qow...</td>\n",
       "    </tr>\n",
       "    <tr>\n",
       "      <th>8</th>\n",
       "      <td>x\f",
       "Ud*mgUOw</td>\n",
       "    </tr>\n",
       "    <tr>\n",
       "      <th>9</th>\n",
       "      <td>KFnHt\\r}\\t]{hOp\\t\\r?&gt;DKJ[rfOdPnp{SBDk-AKnk#Y0v...</td>\n",
       "    </tr>\n",
       "  </tbody>\n",
       "</table>\n",
       "</div>"
      ],
      "text/plain": [
       "                                                name\n",
       "0           l5 o\\Wy(q\\nMk9(h;!lm-:FS*Ct(#?&CY9>cpVW.\n",
       "1                        iP?u\\ne5-j'}hHot8y\\i#gI 'Ej\n",
       "2  8m;f\\tDL_@Tj?~|D_Sq>6?'OSNF6S[8\\zWM\\rV%Vy[ `i!...\n",
       "3  wxJ-vhE*o>:\\X'fC&*V`]5,q+!aa@r(2Qs3J.J1ci\\n/K'...\n",
       "4  TeG\\]2fImV*b='(}k/MuMscKBw'!qCd?m{fnz`lkk-TLA=...\n",
       "5  zyWCZR\\Dnn7Np!b]Uo9]`'\\rE!|k\n",
       "<EAZ{4k-_CTYJy5tm...\n",
       "6  eGz])Nu\\rLt 2uklbbe}k.~V\\na.5{@C\\na]Q[!,=~&D3:...\n",
       "7  m7%q,%\\n4HX:'Guo~9Fx\"Y,|WD$#x~Loc$TvQMu-`M.Qow...\n",
       "8                                         x\n",
       "Ud*mgUOw\n",
       "9  KFnHt\\r}\\t]{hOp\\t\\r?>DKJ[rfOdPnp{SBDk-AKnk#Y0v..."
      ]
     },
     "execution_count": 25,
     "metadata": {},
     "output_type": "execute_result"
    }
   ],
   "source": [
    "ddf.head(10)"
   ]
  },
  {
   "cell_type": "code",
   "execution_count": 26,
   "id": "9ecbface",
   "metadata": {},
   "outputs": [
    {
     "data": {
      "text/plain": [
       "'2.79 GiB'"
      ]
     },
     "execution_count": 26,
     "metadata": {},
     "output_type": "execute_result"
    }
   ],
   "source": [
    "format_bytes(ddf.memory_usage(deep=True).sum().compute())"
   ]
  },
  {
   "cell_type": "code",
   "execution_count": 94,
   "id": "2c5a3481",
   "metadata": {},
   "outputs": [
    {
     "data": {
      "text/plain": [
       "0     57.21 MiB\n",
       "1     57.30 MiB\n",
       "2     57.29 MiB\n",
       "3     57.26 MiB\n",
       "4     57.25 MiB\n",
       "5     57.14 MiB\n",
       "6     57.20 MiB\n",
       "7     57.29 MiB\n",
       "8     57.27 MiB\n",
       "9     57.24 MiB\n",
       "10    57.16 MiB\n",
       "11    57.23 MiB\n",
       "12    57.29 MiB\n",
       "13    57.20 MiB\n",
       "14    57.15 MiB\n",
       "15    57.15 MiB\n",
       "16    57.21 MiB\n",
       "17    57.21 MiB\n",
       "18    57.22 MiB\n",
       "19    57.29 MiB\n",
       "20    57.16 MiB\n",
       "21    57.24 MiB\n",
       "22    57.23 MiB\n",
       "23    57.17 MiB\n",
       "24    57.19 MiB\n",
       "25    57.22 MiB\n",
       "26    57.21 MiB\n",
       "27    57.32 MiB\n",
       "28    57.24 MiB\n",
       "29    57.22 MiB\n",
       "30    57.27 MiB\n",
       "31    57.16 MiB\n",
       "32    57.30 MiB\n",
       "33    57.18 MiB\n",
       "34    57.33 MiB\n",
       "35    57.28 MiB\n",
       "36    57.29 MiB\n",
       "37    57.15 MiB\n",
       "38    57.23 MiB\n",
       "39    57.09 MiB\n",
       "40    57.27 MiB\n",
       "41    57.23 MiB\n",
       "42    57.22 MiB\n",
       "43    57.23 MiB\n",
       "44    57.24 MiB\n",
       "45    57.23 MiB\n",
       "46    57.23 MiB\n",
       "47    57.22 MiB\n",
       "48    57.21 MiB\n",
       "49    57.21 MiB\n",
       "dtype: object"
      ]
     },
     "execution_count": 94,
     "metadata": {},
     "output_type": "execute_result"
    }
   ],
   "source": [
    "memory_usage_object = ddf.memory_usage_per_partition(deep=True).compute().apply(format_bytes)\n",
    "memory_usage_object"
   ]
  },
  {
   "cell_type": "code",
   "execution_count": 28,
   "id": "4a56d7ab",
   "metadata": {},
   "outputs": [
    {
     "name": "stderr",
     "output_type": "stream",
     "text": [
      "2023-03-31 19:40:09,691 - distributed.nanny - WARNING - Restarting worker\n",
      "2023-03-31 19:40:09,720 - distributed.nanny - WARNING - Restarting worker\n",
      "2023-03-31 19:40:09,731 - distributed.nanny - WARNING - Restarting worker\n",
      "2023-03-31 19:40:09,732 - distributed.nanny - WARNING - Restarting worker\n"
     ]
    }
   ],
   "source": [
    "client.restart();"
   ]
  },
  {
   "cell_type": "code",
   "execution_count": 29,
   "id": "1245f300",
   "metadata": {},
   "outputs": [],
   "source": [
    "ddf2 = get_ddf2(True)"
   ]
  },
  {
   "cell_type": "code",
   "execution_count": 30,
   "id": "7283a0f2",
   "metadata": {},
   "outputs": [
    {
     "data": {
      "text/plain": [
       "name    string[pyarrow]\n",
       "dtype: object"
      ]
     },
     "execution_count": 30,
     "metadata": {},
     "output_type": "execute_result"
    }
   ],
   "source": [
    "ddf2.dtypes"
   ]
  },
  {
   "cell_type": "code",
   "execution_count": 31,
   "id": "28ec3c8e",
   "metadata": {},
   "outputs": [
    {
     "data": {
      "text/plain": [
       "'1.56 GiB'"
      ]
     },
     "execution_count": 31,
     "metadata": {},
     "output_type": "execute_result"
    }
   ],
   "source": [
    "format_bytes(ddf2.memory_usage(deep=True).sum().compute())"
   ]
  },
  {
   "cell_type": "code",
   "execution_count": 99,
   "id": "5772edfa",
   "metadata": {},
   "outputs": [
    {
     "data": {
      "text/plain": [
       "0     31.95 MiB\n",
       "1     32.00 MiB\n",
       "2     31.90 MiB\n",
       "3     31.93 MiB\n",
       "4     31.92 MiB\n",
       "5     31.96 MiB\n",
       "6     31.94 MiB\n",
       "7     31.93 MiB\n",
       "8     31.94 MiB\n",
       "9     31.99 MiB\n",
       "10    31.95 MiB\n",
       "11    31.95 MiB\n",
       "12    32.01 MiB\n",
       "13    31.90 MiB\n",
       "14    31.90 MiB\n",
       "15    31.90 MiB\n",
       "16    32.07 MiB\n",
       "17    31.92 MiB\n",
       "18    31.91 MiB\n",
       "19    32.00 MiB\n",
       "20    32.00 MiB\n",
       "21    31.96 MiB\n",
       "22    31.75 MiB\n",
       "23    32.01 MiB\n",
       "24    31.85 MiB\n",
       "25    32.05 MiB\n",
       "26    32.02 MiB\n",
       "27    32.00 MiB\n",
       "28    31.95 MiB\n",
       "29    31.99 MiB\n",
       "30    32.00 MiB\n",
       "31    32.03 MiB\n",
       "32    31.88 MiB\n",
       "33    31.94 MiB\n",
       "34    31.92 MiB\n",
       "35    31.93 MiB\n",
       "36    31.98 MiB\n",
       "37    31.95 MiB\n",
       "38    31.94 MiB\n",
       "39    31.95 MiB\n",
       "40    31.94 MiB\n",
       "41    32.02 MiB\n",
       "42    31.91 MiB\n",
       "43    32.01 MiB\n",
       "44    31.94 MiB\n",
       "45    31.97 MiB\n",
       "46    32.01 MiB\n",
       "47    31.93 MiB\n",
       "48    31.91 MiB\n",
       "49    32.03 MiB\n",
       "dtype: object"
      ]
     },
     "execution_count": 99,
     "metadata": {},
     "output_type": "execute_result"
    }
   ],
   "source": [
    "memory_usage_string = ddf2.memory_usage_per_partition().compute().apply(format_bytes)\n",
    "memory_usage_string"
   ]
  },
  {
   "cell_type": "markdown",
   "id": "431e0730",
   "metadata": {},
   "source": [
    "## Running time"
   ]
  },
  {
   "cell_type": "code",
   "execution_count": 10,
   "id": "af7f42a4",
   "metadata": {},
   "outputs": [
    {
     "name": "stderr",
     "output_type": "stream",
     "text": [
      "2023-03-31 17:43:09,551 - distributed.nanny - WARNING - Restarting worker\n",
      "2023-03-31 17:43:09,560 - distributed.nanny - WARNING - Restarting worker\n",
      "2023-03-31 17:43:09,561 - distributed.nanny - WARNING - Restarting worker\n",
      "2023-03-31 17:43:09,562 - distributed.nanny - WARNING - Restarting worker\n"
     ]
    }
   ],
   "source": [
    "client.restart();"
   ]
  },
  {
   "cell_type": "code",
   "execution_count": 11,
   "id": "045c9bc9",
   "metadata": {},
   "outputs": [],
   "source": [
    "ddf = get_ddf(True)"
   ]
  },
  {
   "cell_type": "code",
   "execution_count": 12,
   "id": "4f53f578",
   "metadata": {},
   "outputs": [],
   "source": [
    "wait(ddf);"
   ]
  },
  {
   "cell_type": "code",
   "execution_count": 13,
   "id": "798c7a3f",
   "metadata": {},
   "outputs": [
    {
     "name": "stdout",
     "output_type": "stream",
     "text": [
      "2 s ± 403 ms per loop (mean ± std. dev. of 5 runs, 2 loops each)\n"
     ]
    }
   ],
   "source": [
    "%timeit -r 5 -n 2 ddf.name.unique().compute()"
   ]
  },
  {
   "cell_type": "code",
   "execution_count": 14,
   "id": "2bddb766",
   "metadata": {},
   "outputs": [
    {
     "name": "stdout",
     "output_type": "stream",
     "text": [
      "2.83 s ± 12.8 ms per loop (mean ± std. dev. of 5 runs, 2 loops each)\n"
     ]
    }
   ],
   "source": [
    "%timeit -r 5 -n 2 ddf.groupby(\"name\").count().compute()"
   ]
  },
  {
   "cell_type": "code",
   "execution_count": 15,
   "id": "f9a1f5f8",
   "metadata": {},
   "outputs": [
    {
     "name": "stdout",
     "output_type": "stream",
     "text": [
      "1.46 s ± 25.8 ms per loop (mean ± std. dev. of 5 runs, 2 loops each)\n"
     ]
    }
   ],
   "source": [
    "%timeit -r 5 -n 2 ddf.name.str.startswith(\"a\").compute()"
   ]
  },
  {
   "cell_type": "code",
   "execution_count": 16,
   "id": "b73c0513",
   "metadata": {},
   "outputs": [
    {
     "name": "stdout",
     "output_type": "stream",
     "text": [
      "1.48 s ± 9.32 ms per loop (mean ± std. dev. of 5 runs, 2 loops each)\n"
     ]
    }
   ],
   "source": [
    "%timeit -r 5 -n 2 ddf.name.str.len().compute()"
   ]
  },
  {
   "cell_type": "code",
   "execution_count": 17,
   "id": "df3932e8",
   "metadata": {},
   "outputs": [
    {
     "name": "stderr",
     "output_type": "stream",
     "text": [
      "2023-03-31 17:45:46,109 - distributed.nanny - WARNING - Restarting worker\n",
      "2023-03-31 17:45:46,130 - distributed.nanny - WARNING - Restarting worker\n",
      "2023-03-31 17:45:46,132 - distributed.nanny - WARNING - Restarting worker\n",
      "2023-03-31 17:45:46,137 - distributed.nanny - WARNING - Restarting worker\n"
     ]
    }
   ],
   "source": [
    "client.restart();"
   ]
  },
  {
   "cell_type": "code",
   "execution_count": 18,
   "id": "e866c871",
   "metadata": {},
   "outputs": [],
   "source": [
    "ddf2 = get_ddf2(True)"
   ]
  },
  {
   "cell_type": "code",
   "execution_count": 19,
   "id": "afde080f",
   "metadata": {},
   "outputs": [],
   "source": [
    "wait(ddf2);"
   ]
  },
  {
   "cell_type": "code",
   "execution_count": 20,
   "id": "ed6784ee",
   "metadata": {},
   "outputs": [
    {
     "name": "stdout",
     "output_type": "stream",
     "text": [
      "768 ms ± 265 ms per loop (mean ± std. dev. of 5 runs, 2 loops each)\n"
     ]
    }
   ],
   "source": [
    "%timeit -r 5 -n 2 ddf2.name.unique().compute()"
   ]
  },
  {
   "cell_type": "code",
   "execution_count": 22,
   "id": "7de6b171",
   "metadata": {},
   "outputs": [
    {
     "name": "stdout",
     "output_type": "stream",
     "text": [
      "1.23 s ± 4.8 ms per loop (mean ± std. dev. of 5 runs, 2 loops each)\n"
     ]
    }
   ],
   "source": [
    "%timeit -r 5 -n 2 ddf2.groupby(\"name\").count().compute()"
   ]
  },
  {
   "cell_type": "code",
   "execution_count": 23,
   "id": "73f5bb21",
   "metadata": {},
   "outputs": [
    {
     "name": "stdout",
     "output_type": "stream",
     "text": [
      "503 ms ± 16.3 ms per loop (mean ± std. dev. of 5 runs, 2 loops each)\n"
     ]
    }
   ],
   "source": [
    "%timeit -r 5 -n 2 ddf2.name.str.startswith(\"a\").compute()"
   ]
  },
  {
   "cell_type": "code",
   "execution_count": 24,
   "id": "73c38c54",
   "metadata": {},
   "outputs": [
    {
     "name": "stdout",
     "output_type": "stream",
     "text": [
      "793 ms ± 9.33 ms per loop (mean ± std. dev. of 5 runs, 2 loops each)\n"
     ]
    }
   ],
   "source": [
    "%timeit -r 5 -n 2 ddf2.name.str.len().compute()"
   ]
  },
  {
   "cell_type": "markdown",
   "id": "41edfff3",
   "metadata": {},
   "source": [
    "## Create memory samplers and store benchmarks"
   ]
  },
  {
   "cell_type": "code",
   "execution_count": 36,
   "id": "1ababf28",
   "metadata": {},
   "outputs": [],
   "source": [
    "ms1 = MemorySampler()\n",
    "ms2 = MemorySampler()\n",
    "ms3 = MemorySampler()\n",
    "ms4 = MemorySampler()"
   ]
  },
  {
   "cell_type": "code",
   "execution_count": 37,
   "id": "472e1077",
   "metadata": {},
   "outputs": [],
   "source": [
    "report_dir = \"performance/local4workers3\""
   ]
  },
  {
   "cell_type": "code",
   "execution_count": 38,
   "id": "d1cb42c7",
   "metadata": {},
   "outputs": [],
   "source": [
    "import time"
   ]
  },
  {
   "cell_type": "markdown",
   "id": "7f96b5ac",
   "metadata": {},
   "source": [
    "## Benchmark 1"
   ]
  },
  {
   "cell_type": "code",
   "execution_count": 49,
   "id": "7b3808ba",
   "metadata": {},
   "outputs": [
    {
     "name": "stderr",
     "output_type": "stream",
     "text": [
      "2023-03-31 17:14:29,683 - distributed.nanny - WARNING - Restarting worker\n",
      "2023-03-31 17:14:29,697 - distributed.nanny - WARNING - Restarting worker\n",
      "2023-03-31 17:14:29,698 - distributed.nanny - WARNING - Restarting worker\n",
      "2023-03-31 17:14:29,705 - distributed.nanny - WARNING - Restarting worker\n"
     ]
    }
   ],
   "source": [
    "client.restart();"
   ]
  },
  {
   "cell_type": "code",
   "execution_count": 50,
   "id": "aa154c9f",
   "metadata": {},
   "outputs": [],
   "source": [
    "ddf = get_ddf(True)"
   ]
  },
  {
   "cell_type": "code",
   "execution_count": 51,
   "id": "b494314c",
   "metadata": {},
   "outputs": [],
   "source": [
    "# 1\n",
    "with performance_report(filename=f\"{report_dir}/1-object-unique.html\"):\n",
    "    with ms1.sample(\"object string\", interval=0.01):\n",
    "        for _ in range(5):\n",
    "            ddf.name.unique().count().compute()\n",
    "            time.sleep(0.2)"
   ]
  },
  {
   "cell_type": "code",
   "execution_count": 52,
   "id": "54941f40",
   "metadata": {},
   "outputs": [
    {
     "name": "stderr",
     "output_type": "stream",
     "text": [
      "2023-03-31 17:14:46,900 - distributed.nanny - WARNING - Restarting worker\n",
      "2023-03-31 17:14:46,923 - distributed.nanny - WARNING - Restarting worker\n",
      "2023-03-31 17:14:46,925 - distributed.nanny - WARNING - Restarting worker\n",
      "2023-03-31 17:14:46,930 - distributed.nanny - WARNING - Restarting worker\n"
     ]
    }
   ],
   "source": [
    "client.restart();"
   ]
  },
  {
   "cell_type": "code",
   "execution_count": 53,
   "id": "685faf99",
   "metadata": {},
   "outputs": [],
   "source": [
    "ddf2 = get_ddf2(True)"
   ]
  },
  {
   "cell_type": "code",
   "execution_count": 54,
   "id": "39b82d68",
   "metadata": {},
   "outputs": [],
   "source": [
    "# 1, ddf2\n",
    "with performance_report(filename=f\"{report_dir}/1-string-unique.html\"):\n",
    "    with ms1.sample(\"arrow string\", interval=0.01):\n",
    "        for _ in range(5):\n",
    "            ddf2.name.unique().count().compute()\n",
    "            time.sleep(0.2)"
   ]
  },
  {
   "cell_type": "code",
   "execution_count": 55,
   "id": "639d6ca2",
   "metadata": {},
   "outputs": [
    {
     "data": {
      "text/plain": [
       "<Axes: title={'center': 'Unique/count'}, xlabel='time', ylabel='Cluster memory (GiB)'>"
      ]
     },
     "execution_count": 55,
     "metadata": {},
     "output_type": "execute_result"
    },
    {
     "data": {
      "image/png": "[encoded data removed]",
      "text/plain": [
       "<Figure size 640x480 with 1 Axes>"
      ]
     },
     "metadata": {},
     "output_type": "display_data"
    }
   ],
   "source": [
    "ms1.plot(align=True, title=\"Unique/count\")"
   ]
  },
  {
   "cell_type": "markdown",
   "id": "983b05b1",
   "metadata": {},
   "source": [
    "## Benchmark 2"
   ]
  },
  {
   "cell_type": "code",
   "execution_count": 56,
   "id": "f568c5e9",
   "metadata": {},
   "outputs": [
    {
     "name": "stderr",
     "output_type": "stream",
     "text": [
      "2023-03-31 17:15:16,738 - distributed.nanny - WARNING - Restarting worker\n",
      "2023-03-31 17:15:16,756 - distributed.nanny - WARNING - Restarting worker\n",
      "2023-03-31 17:15:16,757 - distributed.nanny - WARNING - Restarting worker\n",
      "2023-03-31 17:15:16,758 - distributed.nanny - WARNING - Restarting worker\n"
     ]
    }
   ],
   "source": [
    "client.restart();"
   ]
  },
  {
   "cell_type": "code",
   "execution_count": 57,
   "id": "17a41ca1",
   "metadata": {},
   "outputs": [],
   "source": [
    "ddf = get_ddf(True)"
   ]
  },
  {
   "cell_type": "code",
   "execution_count": 58,
   "id": "2a6d6947",
   "metadata": {},
   "outputs": [],
   "source": [
    "# 2\n",
    "with performance_report(filename=f\"{report_dir}/2-object-group-count.html\"):\n",
    "    with ms2.sample(\"object string\", interval=0.01):\n",
    "        for _ in range(5):\n",
    "            ddf.groupby(\"name\").count().compute()\n",
    "            time.sleep(0.2)"
   ]
  },
  {
   "cell_type": "code",
   "execution_count": 59,
   "id": "de7e93a4",
   "metadata": {},
   "outputs": [
    {
     "name": "stderr",
     "output_type": "stream",
     "text": [
      "2023-03-31 17:15:54,790 - distributed.nanny - WARNING - Restarting worker\n",
      "2023-03-31 17:15:54,809 - distributed.nanny - WARNING - Restarting worker\n",
      "2023-03-31 17:15:54,810 - distributed.nanny - WARNING - Restarting worker\n",
      "2023-03-31 17:15:54,811 - distributed.nanny - WARNING - Restarting worker\n"
     ]
    }
   ],
   "source": [
    "client.restart();"
   ]
  },
  {
   "cell_type": "code",
   "execution_count": 60,
   "id": "7a75da6d",
   "metadata": {},
   "outputs": [],
   "source": [
    "ddf2 = get_ddf2(True)"
   ]
  },
  {
   "cell_type": "code",
   "execution_count": 61,
   "id": "a764cf72",
   "metadata": {},
   "outputs": [],
   "source": [
    "# 2, ddf2\n",
    "with performance_report(filename=f\"{report_dir}/2-string-group-count.html\"):\n",
    "    with ms2.sample(\"arrow string\", interval=0.01):\n",
    "        for _ in range(5):\n",
    "            ddf2.groupby(\"name\").count().compute()\n",
    "            time.sleep(0.2)"
   ]
  },
  {
   "cell_type": "code",
   "execution_count": 62,
   "id": "990e7934",
   "metadata": {},
   "outputs": [
    {
     "data": {
      "text/plain": [
       "<Axes: title={'center': 'Groupby/count'}, xlabel='time', ylabel='Cluster memory (GiB)'>"
      ]
     },
     "execution_count": 62,
     "metadata": {},
     "output_type": "execute_result"
    },
    {
     "data": {
      "image/png": "[encoded data removed]",
      "text/plain": [
       "<Figure size 640x480 with 1 Axes>"
      ]
     },
     "metadata": {},
     "output_type": "display_data"
    }
   ],
   "source": [
    "ms2.plot(align=True, title=\"Groupby/count\")"
   ]
  },
  {
   "cell_type": "markdown",
   "id": "edc8befa",
   "metadata": {},
   "source": [
    "## Benchmark 3"
   ]
  },
  {
   "cell_type": "code",
   "execution_count": 63,
   "id": "c6633d24",
   "metadata": {},
   "outputs": [
    {
     "name": "stderr",
     "output_type": "stream",
     "text": [
      "2023-03-31 17:16:25,504 - distributed.nanny - WARNING - Restarting worker\n",
      "2023-03-31 17:16:25,525 - distributed.nanny - WARNING - Restarting worker\n",
      "2023-03-31 17:16:25,526 - distributed.nanny - WARNING - Restarting worker\n",
      "2023-03-31 17:16:25,527 - distributed.nanny - WARNING - Restarting worker\n"
     ]
    }
   ],
   "source": [
    "client.restart();"
   ]
  },
  {
   "cell_type": "code",
   "execution_count": 64,
   "id": "3500e6ae",
   "metadata": {},
   "outputs": [],
   "source": [
    "ddf = get_ddf(True)"
   ]
  },
  {
   "cell_type": "code",
   "execution_count": 65,
   "id": "8e9f482a",
   "metadata": {},
   "outputs": [],
   "source": [
    "# 3\n",
    "with performance_report(filename=f\"{report_dir}/3-object-startswith.html\"):\n",
    "    with ms3.sample(\"object string\", interval=0.01):\n",
    "        for _ in range(5):\n",
    "            ddf.name.str.startswith(\"a\").compute()\n",
    "            time.sleep(0.2)"
   ]
  },
  {
   "cell_type": "code",
   "execution_count": 66,
   "id": "94bccd49",
   "metadata": {},
   "outputs": [
    {
     "name": "stderr",
     "output_type": "stream",
     "text": [
      "2023-03-31 17:16:47,177 - distributed.nanny - WARNING - Restarting worker\n",
      "2023-03-31 17:16:47,178 - distributed.nanny - WARNING - Restarting worker\n",
      "2023-03-31 17:16:47,201 - distributed.nanny - WARNING - Restarting worker\n",
      "2023-03-31 17:16:47,203 - distributed.nanny - WARNING - Restarting worker\n"
     ]
    }
   ],
   "source": [
    "client.restart();"
   ]
  },
  {
   "cell_type": "code",
   "execution_count": 67,
   "id": "afa2b25e",
   "metadata": {},
   "outputs": [],
   "source": [
    "ddf2 = get_ddf2(True)"
   ]
  },
  {
   "cell_type": "code",
   "execution_count": 68,
   "id": "de7c8c08",
   "metadata": {},
   "outputs": [],
   "source": [
    "# 3, ddf2\n",
    "with performance_report(filename=f\"{report_dir}/3-string-startswith.html\"):\n",
    "    with ms3.sample(\"arrow string\", interval=0.01):\n",
    "        for _ in range(5):\n",
    "            get_ddf2(True).name.str.startswith(\"a\").compute()\n",
    "            time.sleep(0.2)"
   ]
  },
  {
   "cell_type": "code",
   "execution_count": 69,
   "id": "b4a39329",
   "metadata": {},
   "outputs": [
    {
     "data": {
      "text/plain": [
       "<Axes: title={'center': 'String startswith'}, xlabel='time', ylabel='Cluster memory (GiB)'>"
      ]
     },
     "execution_count": 69,
     "metadata": {},
     "output_type": "execute_result"
    },
    {
     "data": {
      "image/png": "[encoded data removed]",
      "text/plain": [
       "<Figure size 640x480 with 1 Axes>"
      ]
     },
     "metadata": {},
     "output_type": "display_data"
    }
   ],
   "source": [
    "ms3.plot(align=True, title=\"String startswith\")"
   ]
  },
  {
   "cell_type": "markdown",
   "id": "5294e65a",
   "metadata": {},
   "source": [
    "## Benchmark 4"
   ]
  },
  {
   "cell_type": "code",
   "execution_count": 70,
   "id": "8dd155bf",
   "metadata": {},
   "outputs": [
    {
     "name": "stderr",
     "output_type": "stream",
     "text": [
      "2023-03-31 17:17:14,944 - distributed.nanny - WARNING - Restarting worker\n",
      "2023-03-31 17:17:14,974 - distributed.nanny - WARNING - Restarting worker\n",
      "2023-03-31 17:17:14,976 - distributed.nanny - WARNING - Restarting worker\n",
      "2023-03-31 17:17:14,977 - distributed.nanny - WARNING - Restarting worker\n"
     ]
    }
   ],
   "source": [
    "client.restart();"
   ]
  },
  {
   "cell_type": "code",
   "execution_count": 71,
   "id": "f262ad64",
   "metadata": {},
   "outputs": [],
   "source": [
    "ddf = get_ddf(True)"
   ]
  },
  {
   "cell_type": "code",
   "execution_count": 72,
   "id": "e7a3c9b8",
   "metadata": {},
   "outputs": [],
   "source": [
    "# 4\n",
    "with performance_report(filename=f\"{report_dir}/4-object-strlen.html\"):\n",
    "    with ms4.sample(\"object string\", interval=0.01):\n",
    "        for _ in range(5):\n",
    "            ddf.name.str.len().compute()\n",
    "            time.sleep(0.2)"
   ]
  },
  {
   "cell_type": "code",
   "execution_count": 73,
   "id": "efea52ae",
   "metadata": {},
   "outputs": [
    {
     "name": "stderr",
     "output_type": "stream",
     "text": [
      "2023-03-31 17:17:34,792 - distributed.nanny - WARNING - Restarting worker\n",
      "2023-03-31 17:17:34,813 - distributed.nanny - WARNING - Restarting worker\n",
      "2023-03-31 17:17:34,815 - distributed.nanny - WARNING - Restarting worker\n",
      "2023-03-31 17:17:34,815 - distributed.nanny - WARNING - Restarting worker\n"
     ]
    }
   ],
   "source": [
    "client.restart();"
   ]
  },
  {
   "cell_type": "code",
   "execution_count": 74,
   "id": "0698980c",
   "metadata": {},
   "outputs": [],
   "source": [
    "ddf2 = get_ddf2(True)"
   ]
  },
  {
   "cell_type": "code",
   "execution_count": 75,
   "id": "407ef43f",
   "metadata": {},
   "outputs": [],
   "source": [
    "# 4, ddf2\n",
    "with performance_report(filename=f\"{report_dir}/4-string-strlen.html\"):\n",
    "    with ms4.sample(\"arrow string\", interval=0.01):\n",
    "        for _ in range(5):\n",
    "            ddf2.name.str.len().compute()\n",
    "            time.sleep(0.2)"
   ]
  },
  {
   "cell_type": "code",
   "execution_count": 76,
   "id": "4be0a047",
   "metadata": {},
   "outputs": [
    {
     "data": {
      "text/plain": [
       "<Axes: title={'center': 'String length'}, xlabel='time', ylabel='Cluster memory (GiB)'>"
      ]
     },
     "execution_count": 76,
     "metadata": {},
     "output_type": "execute_result"
    },
    {
     "data": {
      "image/png": "[encoded data removed]",
      "text/plain": [
       "<Figure size 640x480 with 1 Axes>"
      ]
     },
     "metadata": {},
     "output_type": "display_data"
    }
   ],
   "source": [
    "ms4.plot(align=True, title=\"String length\")"
   ]
  },
  {
   "cell_type": "code",
   "execution_count": 77,
   "id": "06a61652",
   "metadata": {},
   "outputs": [],
   "source": [
    "client.close()"
   ]
  },
  {
   "cell_type": "code",
   "execution_count": 78,
   "id": "eb133c25",
   "metadata": {},
   "outputs": [],
   "source": [
    "cluster.close()"
   ]
  },
  {
   "cell_type": "code",
   "execution_count": null,
   "id": "e2ac2827",
   "metadata": {},
   "outputs": [],
   "source": []
  }
 ],
 "metadata": {
  "kernelspec": {
   "display_name": "Python 3 (ipykernel)",
   "language": "python",
   "name": "python3"
  },
  "language_info": {
   "codemirror_mode": {
    "name": "ipython",
    "version": 3
   },
   "file_extension": ".py",
   "mimetype": "text/x-python",
   "name": "python",
   "nbconvert_exporter": "python",
   "pygments_lexer": "ipython3",
   "version": "3.11.0"
  }
 },
 "nbformat": 4,
 "nbformat_minor": 5
}
